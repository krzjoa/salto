{
 "cells": [
  {
   "cell_type": "markdown",
   "id": "8518f71c",
   "metadata": {},
   "source": [
    "# How cool is cucumber? Experiments with word embedding"
   ]
  },
  {
   "cell_type": "markdown",
   "id": "36122ed1",
   "metadata": {},
   "source": [
    "We all know old, good and hackneyed examples, that are typically used to intuitively explain, what the **word embedding** technique is. We almost always come across a chart presenting a simplified, 2-dimensional vector representation of words **queen** and **king**, which are distant from each other in the similar length as words **woman** and **man**. "
   ]
  },
  {
   "cell_type": "markdown",
   "id": "1d8e52ca",
   "metadata": {},
   "source": [
    "One of the most convenient ways to get **embedding vectors** for natural language is to use pre-trained models distributed with [**spacy**](https://spacy.io/) library."
   ]
  },
  {
   "cell_type": "code",
   "execution_count": 4,
   "id": "a785910d",
   "metadata": {},
   "outputs": [],
   "source": [
    "import numpy as np\n",
    "import numpy.typing as npt\n",
    "import spacy\n",
    "import matplotlib.pyplot as plt"
   ]
  },
  {
   "cell_type": "code",
   "execution_count": 5,
   "id": "1667743b",
   "metadata": {},
   "outputs": [],
   "source": [
    "# Installing en_core_web_mdn\n",
    "nlp = spacy.load('en_core_web_md')"
   ]
  },
  {
   "cell_type": "code",
   "execution_count": 6,
   "id": "10bda332",
   "metadata": {},
   "outputs": [],
   "source": [
    "fire = nlp('fire')\n",
    "ice = nlp('ice')"
   ]
  },
  {
   "cell_type": "code",
   "execution_count": 7,
   "id": "9a0267e1",
   "metadata": {},
   "outputs": [
    {
     "data": {
      "text/plain": [
       "300"
      ]
     },
     "execution_count": 7,
     "metadata": {},
     "output_type": "execute_result"
    }
   ],
   "source": [
    "len(fire.vector)"
   ]
  },
  {
   "cell_type": "markdown",
   "id": "171fb9cf",
   "metadata": {},
   "source": [
    "A couple of simple function calls, but there is a lot work done behind the scene. In fact, we can use **nlp** object to process whole sentences (or documents) at once. For now, we only need to process single words."
   ]
  },
  {
   "cell_type": "markdown",
   "id": "c8f5aa30",
   "metadata": {},
   "source": [
    "## Math behind"
   ]
  },
  {
   "cell_type": "markdown",
   "id": "ca63203a",
   "metadata": {},
   "source": [
    "### Adding a new axis"
   ]
  },
  {
   "cell_type": "markdown",
   "id": "ee37ea38",
   "metadata": {},
   "source": [
    "The experiment I'd like to conduct is to \"draw\" a straight line in n-dimensional space and treat it as a new axis. It's possible if we project the considered points on this line."
   ]
  },
  {
   "cell_type": "markdown",
   "id": "9e05c85e",
   "metadata": {},
   "source": [
    "We also will use a **midpoint** between two initial points as beginining of our new axis.\n",
    "It can be calculated with the following formula:\n",
    "\n",
    "<center>\n",
    "$  M = (\\frac{x + x_{1}}{2}, \\frac{y + y_{1}}{2}, \\frac{z + z_{1}}{2}, ...) $\n",
    "</center>"
   ]
  },
  {
   "cell_type": "markdown",
   "id": "630aeca7",
   "metadata": {},
   "source": [
    "Writing that as a function:"
   ]
  },
  {
   "cell_type": "code",
   "execution_count": 8,
   "id": "853aa0e5",
   "metadata": {},
   "outputs": [],
   "source": [
    "def midpoint(x: npt.NDArray, y: npt.NDArray) -> npt.NDArray:\n",
    "    if (len(x) != len(y)):\n",
    "        raise ValueError(\n",
    "            f'Vectors come from different spaces! ' + \n",
    "            f'x: {len(x)} dimensions, y: {len(y)} dimensions')\n",
    "    return (x + y) / 2"
   ]
  },
  {
   "cell_type": "code",
   "execution_count": 9,
   "id": "6220266f",
   "metadata": {},
   "outputs": [],
   "source": [
    "# midpoint(np.array([2, 3]), np.array([-1, 20]))\n",
    "# midpoint(np.array([2, 3]), np.array([-1, 20, -45]))"
   ]
  },
  {
   "cell_type": "code",
   "execution_count": 10,
   "id": "7c3f25d1",
   "metadata": {},
   "outputs": [],
   "source": [
    "mid = midpoint(fire.vector, ice.vector)"
   ]
  },
  {
   "cell_type": "markdown",
   "id": "ae3d4f37",
   "metadata": {},
   "source": [
    "Two values that we need for the moment:\n",
    "* ```mid```\n",
    "* ```direction```"
   ]
  },
  {
   "cell_type": "markdown",
   "id": "7993084f",
   "metadata": {},
   "source": [
    "### Plotting function"
   ]
  },
  {
   "cell_type": "code",
   "execution_count": 13,
   "id": "2aa7cd67",
   "metadata": {},
   "outputs": [],
   "source": [
    "def plot(points, lines, labels):\n",
    "    points_x = [x[0] for x in points]\n",
    "    points_y = [x[1] for x in points]\n",
    "    \n",
    "    # Lines\n",
    "    for l in lines:\n",
    "        plt.plot([l[0][0], l[1][0]], [l[0][1], l[1][1]])\n",
    "    \n",
    "    # Labels\n",
    "    for coords, lbl in zip(points, labels):\n",
    "        plt.text(coords[0], coords[1], lbl)\n",
    "    \n",
    "    # Points\n",
    "    plt.plot(points_x, points_y, '.')\n",
    "    plt.grid()\n",
    "    plt.axhline(linewidth=1, color='black')\n",
    "    plt.axvline(linewidth=1, color='black')\n",
    "    plt.axis('equal')\n",
    "    plt.show()"
   ]
  },
  {
   "cell_type": "code",
   "execution_count": 15,
   "id": "92ce2e84",
   "metadata": {},
   "outputs": [
    {
     "data": {
      "image/png": "[encoded data removed]",
      "text/plain": [
       "<Figure size 432x288 with 1 Axes>"
      ]
     },
     "metadata": {},
     "output_type": "display_data"
    }
   ],
   "source": [
    "# Points lying on the straight line\n",
    "A = np.array([-10, 2])\n",
    "B = np.array([5, 18]) # 18\n",
    "\n",
    "# a = np.array([2, 2])\n",
    "# b = np.array([-2, -2])\n",
    "\n",
    "M = midpoint(a, b)\n",
    "\n",
    "C = np.array([-6, 15])\n",
    "\n",
    "points = [A, B, M, C]\n",
    "lines  = [[A, B]]\n",
    "labels = ['A', 'B', 'mid_A_B', 'C']\n",
    "\n",
    "plot(points, lines, labels)"
   ]
  },
  {
   "cell_type": "markdown",
   "id": "0b2254a5",
   "metadata": {},
   "source": [
    "As we can see, the line doesn't pass trough the origin. We have to apply **affine transformation** to shift the whole space, placing **midpoint AB** at (0, 0). If we do so, we can easily find orthogonal projection of the point C on the line spanned by the **B vector**. We can call it **B vector**, because after we shift the space, the segment $|MB|$ becomes a vector as it has its start in the origin."
   ]
  },
  {
   "cell_type": "code",
   "execution_count": 16,
   "id": "b889784c",
   "metadata": {},
   "outputs": [
    {
     "data": {
      "text/plain": [
       "array([[  1. ,   0. ,   2.5],\n",
       "       [  0. ,   1. , -10. ],\n",
       "       [  0. ,   0. ,   1. ]])"
      ]
     },
     "execution_count": 16,
     "metadata": {},
     "output_type": "execute_result"
    }
   ],
   "source": [
    "transform_matrix = np.eye(3)\n",
    "transform_matrix[0:2, -1] = -M\n",
    "transform_matrix"
   ]
  },
  {
   "cell_type": "markdown",
   "id": "2b950bb4",
   "metadata": {},
   "source": [
    "If you'd like to know more details, how to construct the transformation matrix, see for example [Affine Transformation Matrices](https://articulatedrobotics.xyz/5-transformation_matrices/)."
   ]
  },
  {
   "cell_type": "code",
   "execution_count": 18,
   "id": "8c561e31",
   "metadata": {},
   "outputs": [
    {
     "data": {
      "image/png": "[encoded data removed]",
      "text/plain": [
       "<Figure size 432x288 with 1 Axes>"
      ]
     },
     "metadata": {},
     "output_type": "display_data"
    }
   ],
   "source": [
    "# tranformed_a = affine_transform_matrix @ np.vstack(a.T, [1])\n",
    "def extend_with_one(vec):\n",
    "    vec = vec[np.newaxis].T\n",
    "    return np.vstack([vec, [1]])  \n",
    "\n",
    "transposed  = [extend_with_one(p) for p in points]\n",
    "transformed = [transform_matrix @ vec for vec in transposed]\n",
    "# Removing last dimension with '1'\n",
    "transformed = [vec[0:2] for vec in transformed]\n",
    "aff_A, aff_B, aff_M, aff_C = transformed\n",
    "\n",
    "lines  = [[aff_A, aff_B]]\n",
    "labels = ['shifted_A', 'shifted_B', 'shifted_M', 'shifted_C']\n",
    "\n",
    "plot(transformed, lines, labels)"
   ]
  },
  {
   "cell_type": "markdown",
   "id": "5727db48",
   "metadata": {},
   "source": [
    "### Projection"
   ]
  },
  {
   "cell_type": "code",
   "execution_count": 21,
   "id": "69b8189f",
   "metadata": {},
   "outputs": [
    {
     "data": {
      "text/plain": [
       "array([[0.85758836],\n",
       "       [0.91476091]])"
      ]
     },
     "execution_count": 21,
     "metadata": {},
     "output_type": "execute_result"
    }
   ],
   "source": [
    "dir_vec = (aff_B) / np.linalg.norm(aff_B)\n",
    "proj_C = (aff_C.T @ dir_vec) / (dir_vec.T @ dir_vec) * dir_vec\n",
    "proj_C"
   ]
  },
  {
   "cell_type": "code",
   "execution_count": 25,
   "id": "7dbdff10",
   "metadata": {},
   "outputs": [
    {
     "data": {
      "image/png": "[encoded data removed]",
      "text/plain": [
       "<Figure size 432x288 with 1 Axes>"
      ]
     },
     "metadata": {},
     "output_type": "display_data"
    }
   ],
   "source": [
    "# Plot \n",
    "points = transformed + [proj_c]\n",
    "lines  = [[aff_A, aff_B], [aff_C, proj_C]]\n",
    "labels = ['shifted_A', 'shifted_B', 'shifted_mid_A_B', 'shifted_C', 'proj_C']\n",
    "plot(points, lines, labels)"
   ]
  },
  {
   "cell_type": "code",
   "execution_count": 28,
   "id": "84eea405",
   "metadata": {},
   "outputs": [
    {
     "data": {
      "text/plain": [
       "1.2538920696157714"
      ]
     },
     "execution_count": 28,
     "metadata": {},
     "output_type": "execute_result"
    }
   ],
   "source": [
    "dist = np.linalg.norm(proj_C)\n",
    "dist_to_A = np.linalg.norm(proj_C - aff_A)\n",
    "dist_to_B = np.linalg.norm(proj_C - aff_B)\n",
    "sign = 1 if dist_to_B < dist_to_A else -1\n",
    "value = sign * dist\n",
    "value"
   ]
  },
  {
   "cell_type": "markdown",
   "id": "49948529",
   "metadata": {},
   "source": [
    "## Axis class"
   ]
  },
  {
   "cell_type": "markdown",
   "id": "83e117f4",
   "metadata": {},
   "source": [
    "Rewriting all as a function"
   ]
  },
  {
   "cell_type": "code",
   "execution_count": 57,
   "id": "d872b212",
   "metadata": {},
   "outputs": [],
   "source": [
    "# Nie działa\n",
    "class axis:\n",
    "    \n",
    "    def __init__(self, negative_pole, positive_pole):\n",
    "        \n",
    "        self.dims = len(negative_pole)\n",
    "        \n",
    "        self.A = negative_pole \n",
    "        self.B = positive_pole\n",
    "        self.M = midpoint(negative_pole, positive_pole)\n",
    "        self.transform = self.transformation_matrix(M)\n",
    "        \n",
    "        # Transformation\n",
    "        self.shifted_A = self.shift(A)\n",
    "        self.shifted_B = self.shift(B)\n",
    "        \n",
    "        self.direction = self.shifted_B / np.linalg.norm(self.shifted_B)\n",
    "        # shifted_M is (0, 0, ...)\n",
    "    \n",
    "    def extend_with_one(self, V):\n",
    "        V = V[np.newaxis].T\n",
    "        return np.vstack([V, [1]])      \n",
    "    \n",
    "    def transformation_matrix(self, M):\n",
    "        mat = np.eye(self.dims + 1)\n",
    "        mat[0:self.dims, -1] = -M\n",
    "        return mat   \n",
    "    \n",
    "    def shift(self, V):\n",
    "        return (self.transform @ self.extend_with_one(V))[0:self.dims]\n",
    "    \n",
    "    def project(self, V):\n",
    "        shifted_V = self.shift(V)\n",
    "        return (V.T @ self.direction) / (self.direction.T @ self.direction) * self.direction\n",
    "   \n",
    "    def __call__(self, V):\n",
    "        proj_V = self.project(V)\n",
    "        dist = np.linalg.norm(proj_V)\n",
    "        dist_to_A = np.linalg.norm(proj_V - self.shifted_A)\n",
    "        dist_to_B = np.linalg.norm(proj_V - self.shifted_B)\n",
    "        sign = 1 if dist_to_B < dist_to_A else -1\n",
    "        value = sign * dist\n",
    "        return value"
   ]
  },
  {
   "cell_type": "code",
   "execution_count": 58,
   "id": "0bf1d714",
   "metadata": {},
   "outputs": [],
   "source": [
    "## Simplified example in 2-dimensional space"
   ]
  },
  {
   "cell_type": "code",
   "execution_count": 59,
   "id": "bfbf846e",
   "metadata": {},
   "outputs": [],
   "source": [
    "# To discover potential bugs in the code we've written, \n",
    "# we make a simple experiment using a comprehensible example in 2-dimensional space."
   ]
  },
  {
   "cell_type": "code",
   "execution_count": 73,
   "id": "181b8f7c",
   "metadata": {},
   "outputs": [
    {
     "data": {
      "image/png": "[encoded data removed]",
      "text/plain": [
       "<Figure size 432x288 with 1 Axes>"
      ]
     },
     "metadata": {},
     "output_type": "display_data"
    }
   ],
   "source": [
    "# Points lying on the straight line\n",
    "\n",
    "A = np.array([-10, 2])\n",
    "B = np.array([5, 18]) # 18\n",
    "\n",
    "C = np.array([-6, 15])\n",
    "\n",
    "\n",
    "axis_a_b = axis(A, B)\n",
    "\n",
    "# C = np.array([4, 8])\n",
    "\n",
    "proj_C = axis_a_b.project(C)\n",
    "\n",
    "points = [axis_a_b.shift(A), axis_a_b.shift(B), axis_a_b.shift(C), proj_C]\n",
    "shifted_A, shifted_B, shifted_C, _ = points\n",
    "\n",
    "lines  = [[shifted_A, shifted_B], [shifted_C, proj_C]]\n",
    "labels = ['shifted_A', 'shifted_B', 'shifted_C', 'proj_C']\n",
    "plot(points, lines, labels)"
   ]
  },
  {
   "cell_type": "markdown",
   "id": "bf90c3c1",
   "metadata": {},
   "source": [
    "## Experiment with embeddings"
   ]
  },
  {
   "cell_type": "code",
   "execution_count": 75,
   "id": "d71945b8",
   "metadata": {},
   "outputs": [],
   "source": [
    "ice_fire_axis = axis(ice.vector, fire.vector)"
   ]
  },
  {
   "cell_type": "code",
   "execution_count": 29,
   "id": "d64e0d74",
   "metadata": {},
   "outputs": [
    {
     "data": {
      "text/plain": [
       "-4.104704"
      ]
     },
     "execution_count": 29,
     "metadata": {},
     "output_type": "execute_result"
    }
   ],
   "source": [
    "# Ice\n",
    "ice_fire_axis.pole_x\n",
    "\n",
    "# Fire\n",
    "ice_fire_axis.pole_y"
   ]
  },
  {
   "cell_type": "code",
   "execution_count": 30,
   "id": "afcd501e",
   "metadata": {},
   "outputs": [
    {
     "data": {
      "text/plain": [
       "1.5802484"
      ]
     },
     "execution_count": 30,
     "metadata": {},
     "output_type": "execute_result"
    }
   ],
   "source": [
    "ice_fire_axis(nlp('icecream').vector)"
   ]
  },
  {
   "cell_type": "code",
   "execution_count": 31,
   "id": "d8800520",
   "metadata": {},
   "outputs": [
    {
     "data": {
      "text/plain": [
       "1.3376285"
      ]
     },
     "execution_count": 31,
     "metadata": {},
     "output_type": "execute_result"
    }
   ],
   "source": [
    "ice_fire_axis(nlp('polar').vector)"
   ]
  },
  {
   "cell_type": "code",
   "execution_count": 32,
   "id": "0a87a49a",
   "metadata": {},
   "outputs": [
    {
     "data": {
      "text/plain": [
       "array([4., 2.])"
      ]
     },
     "execution_count": 32,
     "metadata": {},
     "output_type": "execute_result"
    }
   ],
   "source": [
    "axis(np.array([1, 2]), np.array([10, 2])).project(np.array([4, 5]))"
   ]
  },
  {
   "cell_type": "code",
   "execution_count": 34,
   "id": "94d61828",
   "metadata": {},
   "outputs": [
    {
     "data": {
      "image/png": "[encoded data removed]",
      "text/plain": [
       "<Figure size 432x288 with 1 Axes>"
      ]
     },
     "metadata": {},
     "output_type": "display_data"
    },
    {
     "data": {
      "text/plain": [
       "array([3.5, 1.5])"
      ]
     },
     "execution_count": 34,
     "metadata": {},
     "output_type": "execute_result"
    }
   ],
   "source": [
    "# a = np.array([1, 2])\n",
    "# b = np.array([10, 2])\n",
    "# c = np.array([4, 5])\n",
    "\n",
    "a = np.array([2, 0])\n",
    "b = np.array([5, 3])\n",
    "c = np.array([2, 3])\n",
    "\n",
    "line_a_b = axis(a, b)\n",
    "mid_a_b = line_a_b.mid\n",
    "\n",
    "\n",
    "proj_c = line_a_b.project(c)\n",
    "\n",
    "points = [a, b, mid_a_b, c, proj_c]\n",
    "\n",
    "points_x = [x[0] for x in points]\n",
    "points_y = [x[1] for x in points]\n",
    "\n",
    "\n",
    "plt.plot([a[0], b[0]], [a[1], b[1]])\n",
    "plt.plot(points_x, points_y, '.')\n",
    "# Line\n",
    "plt.plot([c[0], proj_c[0]], [c[1], proj_c[1]], '-')\n",
    "plt.grid()\n",
    "plt.axhline(linewidth=1, color='black')\n",
    "plt.axvline(linewidth=1, color='black')\n",
    "plt.show()\n",
    "\n",
    "proj_c"
   ]
  },
  {
   "cell_type": "code",
   "execution_count": 35,
   "id": "2a2878e3",
   "metadata": {},
   "outputs": [
    {
     "data": {
      "text/plain": [
       "array([-0.70710678, -0.70710678])"
      ]
     },
     "execution_count": 35,
     "metadata": {},
     "output_type": "execute_result"
    }
   ],
   "source": [
    "line_a_b.direction"
   ]
  },
  {
   "cell_type": "code",
   "execution_count": 36,
   "id": "d2a729de",
   "metadata": {},
   "outputs": [
    {
     "data": {
      "text/plain": [
       "array([-1.5, -1.5])"
      ]
     },
     "execution_count": 36,
     "metadata": {},
     "output_type": "execute_result"
    }
   ],
   "source": [
    "line_a_b.x - line_a_b.mid"
   ]
  },
  {
   "cell_type": "code",
   "execution_count": 37,
   "id": "23dd4bbb",
   "metadata": {},
   "outputs": [
    {
     "data": {
      "text/plain": [
       "array([2, 0])"
      ]
     },
     "execution_count": 37,
     "metadata": {},
     "output_type": "execute_result"
    }
   ],
   "source": [
    "line_a_b.x "
   ]
  },
  {
   "cell_type": "code",
   "execution_count": null,
   "id": "7823a383",
   "metadata": {},
   "outputs": [],
   "source": []
  }
 ],
 "metadata": {
  "kernelspec": {
   "display_name": "Python 3 (Spyder)",
   "language": "python3",
   "name": "python3"
  },
  "language_info": {
   "codemirror_mode": {
    "name": "ipython",
    "version": 3
   },
   "file_extension": ".py",
   "mimetype": "text/x-python",
   "name": "python",
   "nbconvert_exporter": "python",
   "pygments_lexer": "ipython3",
   "version": "3.8.10"
  }
 },
 "nbformat": 4,
 "nbformat_minor": 5
}
