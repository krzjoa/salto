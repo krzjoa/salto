{
 "cells": [
  {
   "cell_type": "markdown",
   "id": "2fe1f342",
   "metadata": {},
   "source": [
    "# How icy is sun, how fiery is snow? Playing with word embedding"
   ]
  },
  {
   "cell_type": "markdown",
   "id": "11ed179f",
   "metadata": {},
   "source": [
    "We all know old, good and hackneyed examples, that are typically used to intuitively explain, what the **word embedding** technique is. We almost always come across a chart presenting a simplified, 2-dimensional vector representation of the words **queen** and **king**, which are distant from each other similarly as the words **woman** and **man**. \n",
    "\n",
    "Today, I’d like to go one step further and explore the meaning of the mutual position of two arbitrary selected vectors. It this particular case - relation between the **ice**-and-**fire** pair and the rest of the vectors."
   ]
  },
  {
   "cell_type": "markdown",
   "id": "58612636",
   "metadata": {},
   "source": [
    "## Motivation"
   ]
  },
  {
   "cell_type": "markdown",
   "id": "b8a6e118",
   "metadata": {},
   "source": [
    "Assume for the moment we have an embedding in the 2-dimensional space. It's not a realistic case, because in most cases such low-dimensional embedding wouldn't fulfill its purpose. So, we have a bunch of vectors or points, described with two coordinates. We choose two such vectors, say **ice** and **fire**, as mentioned above."
   ]
  },
  {
   "cell_type": "markdown",
   "id": "fb3253ee",
   "metadata": {},
   "source": [
    "![Drawn using https://www.geogebra.org/m/JMMKv7cx](plot_1.png)\n",
    "<center> <i>Drawn using: <a>https://www.geogebra.org/m/JMMKv7cx<a></i>"
   ]
  },
  {
   "cell_type": "markdown",
   "id": "31a21a27",
   "metadata": {},
   "source": [
    "Treating the straight line passing trough these points as a new axis, we project the rest of the points onto this line. **The midpoint** between \"ice\" and \"fire\" can be treated as the origin (\"point 0\") of the new axis."
   ]
  },
  {
   "cell_type": "markdown",
   "id": "5886fdb8",
   "metadata": {},
   "source": [
    "![Drawn using https://www.geogebra.org/m/JMMKv7cx](plot_3.png)\n",
    "<center> <i>Drawn using: <a>https://www.geogebra.org/m/JMMKv7cx<a></i>"
   ]
  },
  {
   "cell_type": "markdown",
   "id": "8c5c067b",
   "metadata": {},
   "source": [
    "I will call the **ice** and **fire** points **poles**, to express that they show us, what is the expected meaning of being \"*negative*\" and \"*positive*\".\n",
    "Briefly - I expect that embedding vectors (poinst) for \"cold\" words such as \"winter\" will get a negative value on this new axis, while \"warm\" words - positive values.\n",
    "In this context it means that positive-valued points are those ones, that have their projections on the \"right\" side of the of the new axis.\n",
    "\n",
    "Values obtained for each point are the distances from the projections to the midpoint (with sign)."
   ]
  },
  {
   "cell_type": "markdown",
   "id": "ee126009",
   "metadata": {},
   "source": [
    "## Math & code behind"
   ]
  },
  {
   "cell_type": "markdown",
   "id": "ab138036",
   "metadata": {},
   "source": [
    "One of the most convenient ways to get **embedding vectors** for natural language is to use pre-trained models distributed with [**spacy**](https://spacy.io/) library."
   ]
  },
  {
   "cell_type": "code",
   "execution_count": 1,
   "id": "0e534075",
   "metadata": {},
   "outputs": [],
   "source": [
    "import numpy as np\n",
    "import numpy.typing as npt\n",
    "import spacy\n",
    "import matplotlib.pyplot as plt\n",
    "from functools import reduce\n",
    "from operator import add"
   ]
  },
  {
   "cell_type": "code",
   "execution_count": 2,
   "id": "3a83b65e",
   "metadata": {},
   "outputs": [],
   "source": [
    "# Installing en_core_web_mdn\n",
    "nlp = spacy.load('en_core_web_md')"
   ]
  },
  {
   "cell_type": "code",
   "execution_count": 3,
   "id": "778444df",
   "metadata": {},
   "outputs": [],
   "source": [
    "fire = nlp('fire')\n",
    "ice = nlp('ice')"
   ]
  },
  {
   "cell_type": "code",
   "execution_count": 4,
   "id": "e9d51a98",
   "metadata": {},
   "outputs": [
    {
     "data": {
      "text/plain": [
       "300"
      ]
     },
     "execution_count": 4,
     "metadata": {},
     "output_type": "execute_result"
    }
   ],
   "source": [
    "len(fire.vector)"
   ]
  },
  {
   "cell_type": "markdown",
   "id": "68bdb76b",
   "metadata": {},
   "source": [
    "A couple of simple function calls, but there is a lot work done behind the scene. We can use **nlp** object to process whole sentences (or documents) at once. For now, we only need to process single words."
   ]
  },
  {
   "cell_type": "markdown",
   "id": "9dc9438b",
   "metadata": {},
   "source": [
    "### Midpoint - origin of the new axis"
   ]
  },
  {
   "cell_type": "markdown",
   "id": "6a6fc584",
   "metadata": {},
   "source": [
    "We will use a **midpoint** between two initial points as the origin of the our new axis.\n",
    "It can be calculated with the following formula:\n",
    "\n",
    "<center>\n",
    "$  M = (\\frac{x + x_{1}}{2}, \\frac{y + y_{1}}{2}, \\frac{z + z_{1}}{2}, ...) $\n",
    "</center>"
   ]
  },
  {
   "cell_type": "markdown",
   "id": "ab103cb8",
   "metadata": {},
   "source": [
    "Writing that as a function:"
   ]
  },
  {
   "cell_type": "code",
   "execution_count": 5,
   "id": "b9f49e61",
   "metadata": {},
   "outputs": [],
   "source": [
    "def midpoint(x: npt.NDArray, y: npt.NDArray) -> npt.NDArray:\n",
    "    if (len(x) != len(y)):\n",
    "        raise ValueError(\n",
    "            f'Vectors come from different spaces! ' + \n",
    "            f'x: {len(x)} dimensions, y: {len(y)} dimensions')\n",
    "    return (x + y) / 2"
   ]
  },
  {
   "cell_type": "code",
   "execution_count": 6,
   "id": "1d580698",
   "metadata": {},
   "outputs": [],
   "source": [
    "# midpoint(np.array([2, 3]), np.array([-1, 20]))\n",
    "# midpoint(np.array([2, 3]), np.array([-1, 20, -45]))\n",
    "# midpoint(fire.vector, ice.vector)"
   ]
  },
  {
   "cell_type": "markdown",
   "id": "03fa9d2a",
   "metadata": {},
   "source": [
    "### Plotting function"
   ]
  },
  {
   "cell_type": "code",
   "execution_count": 7,
   "id": "443ec985",
   "metadata": {},
   "outputs": [],
   "source": [
    "def plot(points, lines, labels):\n",
    "    points_x = [x[0] for x in points]\n",
    "    points_y = [x[1] for x in points]\n",
    "    \n",
    "    # Lines\n",
    "    for l in lines:\n",
    "        plt.plot([l[0][0], l[1][0]], [l[0][1], l[1][1]])\n",
    "    \n",
    "    # Labels\n",
    "    for coords, lbl in zip(points, labels):\n",
    "        plt.text(coords[0], coords[1], lbl)\n",
    "    \n",
    "    # Points\n",
    "    plt.plot(points_x, points_y, '.')\n",
    "    plt.grid()\n",
    "    plt.axhline(linewidth=1, color='black')\n",
    "    plt.axvline(linewidth=1, color='black')\n",
    "    plt.axis('equal')\n",
    "    plt.show()"
   ]
  },
  {
   "cell_type": "code",
   "execution_count": 8,
   "id": "c18c383f",
   "metadata": {},
   "outputs": [
    {
     "data": {
      "image/png": "[encoded data removed]",
      "text/plain": [
       "<Figure size 432x288 with 1 Axes>"
      ]
     },
     "metadata": {},
     "output_type": "display_data"
    }
   ],
   "source": [
    "# Points lying on the straight line\n",
    "A = np.array([-10, 2])\n",
    "B = np.array([5, 18]) # 18\n",
    "\n",
    "# a = np.array([2, 2])\n",
    "# b = np.array([-2, -2])\n",
    "\n",
    "M = midpoint(A, B)\n",
    "\n",
    "C = np.array([-6, 15])\n",
    "\n",
    "points = [A, B, M, C]\n",
    "lines  = [[A, B]]\n",
    "labels = ['A', 'B', 'M', 'C']\n",
    "\n",
    "plot(points, lines, labels)"
   ]
  },
  {
   "cell_type": "markdown",
   "id": "0d30cf03",
   "metadata": {},
   "source": [
    "As we can see, the line doesn't pass through the origin. We have to apply **affine transformation** to shift the whole space, placing **midpoint AB** at (0, 0). If we do so, we can easily find orthogonal projection of the point C on the line 'marked' by the **B vector**. After we shift the space, the segment $MB$ becomes a vector as it has its start in the origin."
   ]
  },
  {
   "cell_type": "code",
   "execution_count": 9,
   "id": "057e8eaf",
   "metadata": {},
   "outputs": [
    {
     "data": {
      "text/plain": [
       "array([[  1. ,   0. ,   2.5],\n",
       "       [  0. ,   1. , -10. ],\n",
       "       [  0. ,   0. ,   1. ]])"
      ]
     },
     "execution_count": 9,
     "metadata": {},
     "output_type": "execute_result"
    }
   ],
   "source": [
    "transform_matrix = np.eye(3)\n",
    "transform_matrix[0:2, -1] = -M\n",
    "transform_matrix"
   ]
  },
  {
   "cell_type": "markdown",
   "id": "438b2e09",
   "metadata": {},
   "source": [
    "If you'd like to know more details, how to construct the transformation matrix, see for example [Affine Transformation Matrices](https://articulatedrobotics.xyz/5-transformation_matrices/)."
   ]
  },
  {
   "cell_type": "code",
   "execution_count": 10,
   "id": "d8fe5cac",
   "metadata": {},
   "outputs": [
    {
     "data": {
      "image/png": "[encoded data removed]",
      "text/plain": [
       "<Figure size 432x288 with 1 Axes>"
      ]
     },
     "metadata": {},
     "output_type": "display_data"
    }
   ],
   "source": [
    "# tranformed_a = affine_transform_matrix @ np.vstack(a.T, [1])\n",
    "def extend_with_one(vec):\n",
    "    vec = vec[np.newaxis].T\n",
    "    return np.vstack([vec, [1]])  \n",
    "\n",
    "transposed  = [extend_with_one(p) for p in points]\n",
    "transformed = [transform_matrix @ vec for vec in transposed]\n",
    "# Removing last dimension with '1'\n",
    "transformed = [vec[0:2] for vec in transformed]\n",
    "aff_A, aff_B, aff_M, aff_C = transformed\n",
    "\n",
    "lines  = [[aff_A, aff_B]]\n",
    "labels = ['shifted_A', 'shifted_B', 'shifted_M', 'shifted_C']\n",
    "\n",
    "plot(transformed, lines, labels)"
   ]
  },
  {
   "cell_type": "markdown",
   "id": "794e961c",
   "metadata": {},
   "source": [
    "### Scalar projection"
   ]
  },
  {
   "cell_type": "markdown",
   "id": "14aa7dc0",
   "metadata": {},
   "source": [
    "We want to compute the [scalar projection](https://en.wikipedia.org/wiki/Scalar_projection) of $\\bf{v}$ on $\\bf{w}$ using the left-hand side of the following equation:\n",
    "\n",
    "<center>\n",
    "${\\hat{\\bf{w}}}^{T}\\bf{v} = |\\bf{v}| cos\\theta $\n",
    "</center>"
   ]
  },
  {
   "cell_type": "markdown",
   "id": "4d174184",
   "metadata": {},
   "source": [
    "When $\\theta$ is the angle between $\\bf{w}$ and $\\bf{v}$, and $\\hat{\\bf{w}}$ is the **unit vector**, namely:\n",
    "\n",
    "<center>\n",
    "$\\hat{\\bf{w}} = \\frac{\\bf{w}}{|\\bf{w}|} $\n",
    "</center>\n",
    "\n",
    "See also:\n",
    "1. [The dot product](https://mathinsight.org/dot_product)\n",
    "2. [Dot products duality by 3Blue1Brown](https://www.youtube.com/watch?v=LyGKycYT2v0&list=PLZHQObOWTQDPD3MizzM2xVFitgF8hE_ab&index=9&t=216s)"
   ]
  },
  {
   "cell_type": "code",
   "execution_count": 11,
   "id": "9b18e710",
   "metadata": {},
   "outputs": [
    {
     "data": {
      "text/plain": [
       "array([[1.25389207]])"
      ]
     },
     "execution_count": 11,
     "metadata": {},
     "output_type": "execute_result"
    }
   ],
   "source": [
    "unit_vec = (aff_B) / np.linalg.norm(aff_B)\n",
    "scalar_product = unit_vec.T @ aff_C\n",
    "scalar_product"
   ]
  },
  {
   "cell_type": "code",
   "execution_count": 12,
   "id": "97d1c2d7",
   "metadata": {},
   "outputs": [],
   "source": [
    "# We compute projection of C to draw a plot\n",
    "proj_C = unit_vec * scalar_product"
   ]
  },
  {
   "cell_type": "code",
   "execution_count": 13,
   "id": "8eddd7d5",
   "metadata": {},
   "outputs": [
    {
     "data": {
      "image/png": "[encoded data removed]",
      "text/plain": [
       "<Figure size 432x288 with 1 Axes>"
      ]
     },
     "metadata": {},
     "output_type": "display_data"
    }
   ],
   "source": [
    "# Plot \n",
    "points = transformed + [proj_C]\n",
    "lines  = [[aff_A, aff_B], [aff_C, proj_C]]\n",
    "labels = ['shifted_A', 'shifted_B', 'shifted_M', 'shifted_C', 'proj_C']\n",
    "plot(points, lines, labels)"
   ]
  },
  {
   "cell_type": "markdown",
   "id": "23add868",
   "metadata": {},
   "source": [
    "## Axis class"
   ]
  },
  {
   "cell_type": "markdown",
   "id": "149c3980",
   "metadata": {},
   "source": [
    "Rewriting all as a function"
   ]
  },
  {
   "cell_type": "code",
   "execution_count": 57,
   "id": "de10dc21",
   "metadata": {},
   "outputs": [],
   "source": [
    "class axis:\n",
    "\n",
    "    def __init__(self, negative_pole: npt.NDArray, positive_pole: npt.NDArray):\n",
    "        \n",
    "        self.dims = len(negative_pole)\n",
    "        \n",
    "        # Original values\n",
    "        self.negative_pole = negative_pole \n",
    "        self.positive_pole = positive_pole\n",
    "        self.midpoint = _midpoint(negative_pole, positive_pole)  \n",
    "        \n",
    "        # Transformation\n",
    "        self.transform = _transformation_matrix(self.dims, self.midpoint)       \n",
    "        self.shifted_negative_pole = self._shift(negative_pole)\n",
    "        self.shifted_positive_pole = self._shift(positive_pole)\n",
    "        \n",
    "        self.unit_vector = self.shifted_positive_pole / np.linalg.norm(self.shifted_positive_pole)      # shifted_midpoint is (0, 0, ...) \n",
    "\n",
    "    def __call__(self, vector: npt.NDArray):\n",
    "        \n",
    "        if (len(vector) != self.dims):\n",
    "            raise ValueError(\n",
    "                f'Vector length is {len(vector)}, but it should equal {self.dims}' \n",
    "            )\n",
    "        \n",
    "        shifted_vector = self._shift(vector)\n",
    "        return (self.unit_vector.T @ shifted_vector)[0, 0]\n",
    "    \n",
    "    def plot(self, *args, title = \"Embedding vectors\", figsize = (10, 5), \n",
    "             poles = {'negative': {'label': 'Negative pole', 'color': 'blue'}, \n",
    "                      'positive': {'label': 'Positive pole', 'color':'red'}}):\n",
    "   \n",
    "        # Init plot\n",
    "        fig, ax = plt.subplots(figsize=figsize, constrained_layout=True)\n",
    "        ax.set(title=title)\n",
    "        \n",
    "        # Horizontal line       \n",
    "        neg_value = self(self.negative_pole)\n",
    "        pos_value = self(self.positive_pole)\n",
    "        \n",
    "        all_values = reduce(add, [a['values'] for a in args])\n",
    "        all_values = all_values + [neg_value, pos_value]\n",
    "        \n",
    "        ax.plot(all_values, np.zeros_like(all_values), \"-o\",\n",
    "        color=\"k\", markerfacecolor=\"w\")  # Baseline and markers on it.\n",
    "        \n",
    "        # Generate colours if not defined\n",
    "        for group in args:\n",
    "\n",
    "            values = group['values']\n",
    "            labels = group['labels']\n",
    "            color  = group['color']\n",
    "            \n",
    "            levels = np.tile([-5, 5, -3, 3, -1, 1],\n",
    "                 int(np.ceil(len(values)/6)))[:len(values)]\n",
    "            \n",
    "            ax.vlines(values, 0, levels, color=color)  \n",
    "            vert = np.array(['top', 'bottom'])[(levels > 0).astype(int)]\n",
    "\n",
    "            for d, l, r, va in zip(values, levels, labels, vert):\n",
    "                ax.annotate(r, xy=(d, l), xytext=(1, np.sign(l)*3),\n",
    "                            textcoords=\"offset points\", va=va, ha=\"right\")\n",
    "        \n",
    "        # Show poles\n",
    "        neg_pole = poles['negative']\n",
    "        pos_pole = poles['positive']\n",
    "\n",
    "        ax.vlines(neg_value, 0, 4, neg_pole['color'])  \n",
    "        ax.annotate(neg_pole['label'], xy=(neg_value, 4), xytext=(4, np.sign(4)*3),\n",
    "            textcoords=\"offset points\", va=va, ha=\"right\", weight='bold')\n",
    "\n",
    "        ax.vlines(pos_value, 0, 4, color=pos_pole['color'])  \n",
    "        ax.annotate(pos_pole['label'], xy=(pos_value, 4), xytext=(4, np.sign(4)*3),\n",
    "            textcoords=\"offset points\", va=va, ha=\"right\", weight='bold')\n",
    "        \n",
    "        # Show the plot\n",
    "        ax.yaxis.set_visible(False)\n",
    "        ax.spines[[\"left\", \"top\", \"right\"]].set_visible(False)\n",
    "        ax.margins(y=0.1)\n",
    "        \n",
    "        plt.savefig(\"a.png\")\n",
    "        \n",
    "        plt.show()\n",
    "\n",
    "    def _shift(self, vector: npt.NDArray):\n",
    "        extended_vector = _extend_with_one(vector)\n",
    "        return (self.transform @ extended_vector)[0:self.dims]\n",
    "    \n",
    "        \n",
    "def _extend_with_one(vector: npt.NDArray) -> npt.NDArray:\n",
    "    vector = vector[np.newaxis].T\n",
    "    return np.vstack([vector, [1]])      \n",
    "\n",
    "def _transformation_matrix(dims: int, midpoint: npt.NDArray) -> npt.NDArray:\n",
    "    mat = np.eye(dims + 1)\n",
    "    mat[0:dims, -1] = -midpoint\n",
    "    return mat   \n",
    "    \n",
    "def _midpoint(x: npt.NDArray, y: npt.NDArray) -> npt.NDArray:\n",
    "    if (len(x) != len(y)):\n",
    "        raise ValueError(\n",
    "            f'Vectors come from different spaces! ' + \n",
    "            f'x: {len(x)} dimensions, y: {len(y)} dimensions')\n",
    "    return (x + y) / 2"
   ]
  },
  {
   "cell_type": "markdown",
   "id": "819ee8f9",
   "metadata": {},
   "source": [
    "Last quick check with a simplified example:"
   ]
  },
  {
   "cell_type": "code",
   "execution_count": 58,
   "id": "9cb8812a",
   "metadata": {},
   "outputs": [
    {
     "data": {
      "image/png": "[encoded data removed]",
      "text/plain": [
       "<Figure size 432x288 with 1 Axes>"
      ]
     },
     "metadata": {},
     "output_type": "display_data"
    }
   ],
   "source": [
    "# Points lying on the straight line\n",
    "A = np.array([-10, 2])\n",
    "B = np.array([5, 18]) # 18\n",
    "C = np.array([-6, 15])\n",
    "\n",
    "axis_a_b = axis(A, B)\n",
    "\n",
    "points = [A, B, C, axis_a_b.midpoint]\n",
    "shifted_points = [axis_a_b._shift(p) for p in points]\n",
    "proj_C = axis_a_b(C) * axis_a_b.unit_vector\n",
    "shifted_points = shifted_points + [proj_C]\n",
    "\n",
    "shifted_A, shifted_B, shifted_C, shifted_M, _  = shifted_points\n",
    "\n",
    "lines  = [[shifted_A, shifted_B], [shifted_C, proj_C]]\n",
    "labels = ['shifted_A', 'shifted_B', 'shifted_C', 'shifted_M', 'proj_C']\n",
    "plot(shifted_points, lines, labels)"
   ]
  },
  {
   "cell_type": "markdown",
   "id": "777d979b",
   "metadata": {},
   "source": [
    "## Experiment with embeddings"
   ]
  },
  {
   "cell_type": "code",
   "execution_count": 59,
   "id": "770ccf74",
   "metadata": {},
   "outputs": [],
   "source": [
    "ice_fire_axis = axis(ice.vector, fire.vector)"
   ]
  },
  {
   "cell_type": "code",
   "execution_count": 60,
   "id": "f68ccc67",
   "metadata": {},
   "outputs": [],
   "source": [
    "# Ice\n",
    "ice_value = ice_fire_axis(ice.vector)\n",
    "\n",
    "# Fire\n",
    "fire_value = ice_fire_axis(fire.vector)"
   ]
  },
  {
   "cell_type": "code",
   "execution_count": 61,
   "id": "8dca5cbd",
   "metadata": {},
   "outputs": [],
   "source": [
    "cold = ['polar', 'snow', 'winter', 'fridge', 'Antarctica', 'freeze']\n",
    "warm = ['tropical', 'sun', 'summer', 'oven', 'Africa', 'flame']"
   ]
  },
  {
   "cell_type": "code",
   "execution_count": 62,
   "id": "ee47d85f",
   "metadata": {},
   "outputs": [],
   "source": [
    "cold_vecs = [nlp(w).vector for w in cold]\n",
    "warm_vecs = [nlp(w).vector for w in warm]"
   ]
  },
  {
   "cell_type": "code",
   "execution_count": 63,
   "id": "d6a5d434",
   "metadata": {},
   "outputs": [
    {
     "data": {
      "text/plain": [
       "[-0.179010129140625,\n",
       " 0.7686063030627324,\n",
       " 0.21483235444847368,\n",
       " 0.5769307333087565,\n",
       " 0.830039105765312,\n",
       " 2.751032938467553]"
      ]
     },
     "execution_count": 63,
     "metadata": {},
     "output_type": "execute_result"
    }
   ],
   "source": [
    "cold_values = [ice_fire_axis(p) for p in cold_vecs]\n",
    "warm_values = [ice_fire_axis(p) for p in warm_vecs]\n",
    "warm_values"
   ]
  },
  {
   "cell_type": "code",
   "execution_count": 64,
   "id": "8754e409",
   "metadata": {},
   "outputs": [],
   "source": [
    "all_values = cold_values + warm_values + [ice_value, fire_value]\n",
    "all_labels = cold + warm"
   ]
  },
  {
   "cell_type": "code",
   "execution_count": 65,
   "id": "8272c8af",
   "metadata": {},
   "outputs": [
    {
     "data": {
      "image/png": "[encoded data removed]",
      "text/plain": [
       "<Figure size 720x360 with 1 Axes>"
      ]
     },
     "metadata": {},
     "output_type": "display_data"
    }
   ],
   "source": [
    "ice_fire_axis.plot(\n",
    "        {'values': cold_values, 'labels': cold, 'color': 'tab:blue'},\n",
    "        {'values': warm_values, 'labels': warm, 'color': 'tab:red'},\n",
    "        poles = {'negative': {'label': 'ice', 'color': 'blue'}, \n",
    "                 'positive': {'label': 'fire', 'color': 'red'}}\n",
    "    )   "
   ]
  },
  {
   "cell_type": "markdown",
   "id": "757b25ba",
   "metadata": {},
   "source": [
    "## Conclusions"
   ]
  },
  {
   "cell_type": "markdown",
   "id": "0b7b0021",
   "metadata": {},
   "source": [
    "As we can see, in this case the meaning of the mutual position of “ice” and “fire” looks as expected. \"Cold words\" are closer to the *negative pole* while the \"warm words* - to the *positive pole*.\n",
    "\n",
    "To do a similar experiment by yourself, you can use my [salto](https://github.com/krzjoa/salto) package."
   ]
  }
 ],
 "metadata": {
  "kernelspec": {
   "display_name": "Python 3 (Spyder)",
   "language": "python3",
   "name": "python3"
  },
  "language_info": {
   "codemirror_mode": {
    "name": "ipython",
    "version": 3
   },
   "file_extension": ".py",
   "mimetype": "text/x-python",
   "name": "python",
   "nbconvert_exporter": "python",
   "pygments_lexer": "ipython3",
   "version": "3.8.10"
  }
 },
 "nbformat": 4,
 "nbformat_minor": 5
}
