{
 "cells": [
  {
   "cell_type": "markdown",
   "id": "5e654a23",
   "metadata": {},
   "source": [
    "# How icy is sun, how fiery is snow? Playing with word embedding"
   ]
  },
  {
   "cell_type": "markdown",
   "id": "35044f45",
   "metadata": {},
   "source": [
    "We all know old, good and hackneyed examples, that are typically used to intuitively explain, what the **word embedding** technique is. We almost always come across a chart presenting a simplified, 2-dimensional vector representation of words **queen** and **king**, which are distant from each other in the similar length as words **woman** and **man**. \n",
    "\n",
    "Today, I'd like to go one step further and explore the meaning of the distance between two arbitrary selected vectors. It this particular case - distance between **ice** and **fire**."
   ]
  },
  {
   "cell_type": "markdown",
   "id": "f8677426",
   "metadata": {},
   "source": [
    "## Motivation"
   ]
  },
  {
   "cell_type": "markdown",
   "id": "527f2cdd",
   "metadata": {},
   "source": [
    "Assume for the moment we have as embedding in the 2-dimensional space. It's not a realistic case, because in most cases such low-dimensional embedding wouldn't fulfill its purpose. So, we have a bunch of vectors or points, described with two coordinates. We choose two such vectors, say **ice** and **fire**, as mentioned above."
   ]
  },
  {
   "cell_type": "markdown",
   "id": "08714167",
   "metadata": {},
   "source": [
    "![Drawn using https://www.geogebra.org/m/JMMKv7cx](plot_1.png)\n",
    "<center> <i>Drawn using: <a>https://www.geogebra.org/m/JMMKv7cx<a></i>"
   ]
  },
  {
   "cell_type": "markdown",
   "id": "f5792449",
   "metadata": {},
   "source": [
    "Treatin the straight line passing trough these points as a new axis, we project the rest of the points onto this line. **The midpoint** between \"ice\" and \"fire\" can be treated as the origin (\"point 0\") of the new axis."
   ]
  },
  {
   "cell_type": "markdown",
   "id": "b5847274",
   "metadata": {},
   "source": [
    "![Drawn using https://www.geogebra.org/m/JMMKv7cx](plot_3.png)\n",
    "<center> <i>Drawn using: <a>https://www.geogebra.org/m/JMMKv7cx<a></i>"
   ]
  },
  {
   "cell_type": "markdown",
   "id": "1154eaa8",
   "metadata": {},
   "source": [
    "I will call the **ice** and **fire** points **poles**, to express that they show us, what is the expected meaning of being \"*negativemost*\" and \"*positivemost*\".\n",
    "Briefly - I expect that embedding vectors (poinst) for \"cold\" words such as \"winter\" will get a negative value on this line, while \"warm\" words - positive values.\n",
    "In this context it means that positive-valued points are those ones, that have their projections on the \"right\" side of the of the line.\n",
    "\n",
    "The value is the distance of the projection from the midpoint."
   ]
  },
  {
   "cell_type": "markdown",
   "id": "9ba684cf",
   "metadata": {},
   "source": [
    "## Math & code behind"
   ]
  },
  {
   "cell_type": "markdown",
   "id": "1b6e0f6f",
   "metadata": {},
   "source": [
    "One of the most convenient ways to get **embedding vectors** for natural language is to use pre-trained models distributed with [**spacy**](https://spacy.io/) library."
   ]
  },
  {
   "cell_type": "code",
   "execution_count": 9,
   "id": "dbbe7285",
   "metadata": {},
   "outputs": [],
   "source": [
    "import numpy as np\n",
    "import numpy.typing as npt\n",
    "import spacy\n",
    "import matplotlib.pyplot as plt"
   ]
  },
  {
   "cell_type": "code",
   "execution_count": 10,
   "id": "2bf84ae1",
   "metadata": {},
   "outputs": [],
   "source": [
    "# Installing en_core_web_mdn\n",
    "nlp = spacy.load('en_core_web_md')"
   ]
  },
  {
   "cell_type": "code",
   "execution_count": 11,
   "id": "ed8fe75b",
   "metadata": {},
   "outputs": [],
   "source": [
    "fire = nlp('fire')\n",
    "ice = nlp('ice')"
   ]
  },
  {
   "cell_type": "code",
   "execution_count": 13,
   "id": "1ef682f6",
   "metadata": {},
   "outputs": [
    {
     "data": {
      "text/plain": [
       "300"
      ]
     },
     "execution_count": 13,
     "metadata": {},
     "output_type": "execute_result"
    }
   ],
   "source": [
    "len(fire.vector)"
   ]
  },
  {
   "cell_type": "markdown",
   "id": "6e0b76a7",
   "metadata": {},
   "source": [
    "A couple of simple function calls, but there is a lot work done behind the scene. We can use **nlp** object to process whole sentences (or documents) at once. For now, we only need to process single words."
   ]
  },
  {
   "cell_type": "markdown",
   "id": "9ef1fc2f",
   "metadata": {},
   "source": [
    "### Midpoint - origin of the new axis"
   ]
  },
  {
   "cell_type": "markdown",
   "id": "0bd80cd8",
   "metadata": {},
   "source": [
    "The experiment I'd like to conduct is to \"draw\" a straight line in n-dimensional space and treat it as a new axis. It's possible if we project the considered points on this line. The procedure may remind you **PCA** or **ICA** because it's exactly what we do there - we introduce a new system of coordinates to represent the points (vectors) in another way."
   ]
  },
  {
   "cell_type": "markdown",
   "id": "c24a5126",
   "metadata": {},
   "source": [
    "We also will use a **midpoint** between two initial points as beginining of our new axis.\n",
    "It can be calculated with the following formula:\n",
    "\n",
    "<center>\n",
    "$  M = (\\frac{x + x_{1}}{2}, \\frac{y + y_{1}}{2}, \\frac{z + z_{1}}{2}, ...) $\n",
    "</center>"
   ]
  },
  {
   "cell_type": "markdown",
   "id": "087253be",
   "metadata": {},
   "source": [
    "Writing that as a function:"
   ]
  },
  {
   "cell_type": "code",
   "execution_count": 8,
   "id": "7633a6b5",
   "metadata": {},
   "outputs": [],
   "source": [
    "def midpoint(x: npt.NDArray, y: npt.NDArray) -> npt.NDArray:\n",
    "    if (len(x) != len(y)):\n",
    "        raise ValueError(\n",
    "            f'Vectors come from different spaces! ' + \n",
    "            f'x: {len(x)} dimensions, y: {len(y)} dimensions')\n",
    "    return (x + y) / 2"
   ]
  },
  {
   "cell_type": "code",
   "execution_count": 9,
   "id": "c2199ad5",
   "metadata": {},
   "outputs": [],
   "source": [
    "# midpoint(np.array([2, 3]), np.array([-1, 20]))\n",
    "# midpoint(np.array([2, 3]), np.array([-1, 20, -45]))"
   ]
  },
  {
   "cell_type": "code",
   "execution_count": 10,
   "id": "bb3d09fe",
   "metadata": {},
   "outputs": [],
   "source": [
    "mid = midpoint(fire.vector, ice.vector)"
   ]
  },
  {
   "cell_type": "markdown",
   "id": "029bdaba",
   "metadata": {},
   "source": [
    "### Plotting function"
   ]
  },
  {
   "cell_type": "code",
   "execution_count": 11,
   "id": "80c220ef",
   "metadata": {},
   "outputs": [],
   "source": [
    "def plot(points, lines, labels):\n",
    "    points_x = [x[0] for x in points]\n",
    "    points_y = [x[1] for x in points]\n",
    "    \n",
    "    # Lines\n",
    "    for l in lines:\n",
    "        plt.plot([l[0][0], l[1][0]], [l[0][1], l[1][1]])\n",
    "    \n",
    "    # Labels\n",
    "    for coords, lbl in zip(points, labels):\n",
    "        plt.text(coords[0], coords[1], lbl)\n",
    "    \n",
    "    # Points\n",
    "    plt.plot(points_x, points_y, '.')\n",
    "    plt.grid()\n",
    "    plt.axhline(linewidth=1, color='black')\n",
    "    plt.axvline(linewidth=1, color='black')\n",
    "    plt.axis('equal')\n",
    "    plt.show()"
   ]
  },
  {
   "cell_type": "code",
   "execution_count": 13,
   "id": "c22b204d",
   "metadata": {},
   "outputs": [
    {
     "data": {
      "image/png": "[encoded data removed]",
      "text/plain": [
       "<Figure size 432x288 with 1 Axes>"
      ]
     },
     "metadata": {},
     "output_type": "display_data"
    }
   ],
   "source": [
    "# Points lying on the straight line\n",
    "A = np.array([-10, 2])\n",
    "B = np.array([5, 18]) # 18\n",
    "\n",
    "# a = np.array([2, 2])\n",
    "# b = np.array([-2, -2])\n",
    "\n",
    "M = midpoint(A, B)\n",
    "\n",
    "C = np.array([-6, 15])\n",
    "\n",
    "points = [A, B, M, C]\n",
    "lines  = [[A, B]]\n",
    "labels = ['A', 'B', 'mid_A_B', 'C']\n",
    "\n",
    "plot(points, lines, labels)"
   ]
  },
  {
   "cell_type": "markdown",
   "id": "c08a57be",
   "metadata": {},
   "source": [
    "As we can see, the line doesn't pass trough the origin. We have to apply **affine transformation** to shift the whole space, placing **midpoint AB** at (0, 0). If we do so, we can easily find orthogonal projection of the point C on the line spanned by the **B vector**. We can call it **B vector**, because after we shift the space, the segment $|MB|$ becomes a vector as it has its start in the origin."
   ]
  },
  {
   "cell_type": "code",
   "execution_count": 14,
   "id": "b6830cae",
   "metadata": {},
   "outputs": [
    {
     "data": {
      "text/plain": [
       "array([[  1. ,   0. ,   2.5],\n",
       "       [  0. ,   1. , -10. ],\n",
       "       [  0. ,   0. ,   1. ]])"
      ]
     },
     "execution_count": 14,
     "metadata": {},
     "output_type": "execute_result"
    }
   ],
   "source": [
    "transform_matrix = np.eye(3)\n",
    "transform_matrix[0:2, -1] = -M\n",
    "transform_matrix"
   ]
  },
  {
   "cell_type": "markdown",
   "id": "d37146e1",
   "metadata": {},
   "source": [
    "If you'd like to know more details, how to construct the transformation matrix, see for example [Affine Transformation Matrices](https://articulatedrobotics.xyz/5-transformation_matrices/)."
   ]
  },
  {
   "cell_type": "code",
   "execution_count": 15,
   "id": "60cbb68f",
   "metadata": {},
   "outputs": [
    {
     "data": {
      "image/png": "[encoded data removed]",
      "text/plain": [
       "<Figure size 432x288 with 1 Axes>"
      ]
     },
     "metadata": {},
     "output_type": "display_data"
    }
   ],
   "source": [
    "# tranformed_a = affine_transform_matrix @ np.vstack(a.T, [1])\n",
    "def extend_with_one(vec):\n",
    "    vec = vec[np.newaxis].T\n",
    "    return np.vstack([vec, [1]])  \n",
    "\n",
    "transposed  = [extend_with_one(p) for p in points]\n",
    "transformed = [transform_matrix @ vec for vec in transposed]\n",
    "# Removing last dimension with '1'\n",
    "transformed = [vec[0:2] for vec in transformed]\n",
    "aff_A, aff_B, aff_M, aff_C = transformed\n",
    "\n",
    "lines  = [[aff_A, aff_B]]\n",
    "labels = ['shifted_A', 'shifted_B', 'shifted_M', 'shifted_C']\n",
    "\n",
    "plot(transformed, lines, labels)"
   ]
  },
  {
   "cell_type": "markdown",
   "id": "e2577cc5",
   "metadata": {},
   "source": [
    "### Projection"
   ]
  },
  {
   "cell_type": "code",
   "execution_count": 67,
   "id": "5027c5f3",
   "metadata": {},
   "outputs": [
    {
     "name": "stdout",
     "output_type": "stream",
     "text": [
      "[[0.68394113]\n",
      " [0.7295372 ]]\n"
     ]
    },
    {
     "data": {
      "text/plain": [
       "array([[0.85758836],\n",
       "       [0.91476091]])"
      ]
     },
     "execution_count": 67,
     "metadata": {},
     "output_type": "execute_result"
    }
   ],
   "source": [
    "dir_vec = (aff_B) / np.linalg.norm(aff_B)\n",
    "print(dir_vec)\n",
    "proj_C = (aff_C.T @ dir_vec) / (dir_vec.T @ dir_vec) * dir_vec\n",
    "proj_C"
   ]
  },
  {
   "cell_type": "code",
   "execution_count": 18,
   "id": "2beed4aa",
   "metadata": {},
   "outputs": [
    {
     "data": {
      "image/png": "[encoded data removed]",
      "text/plain": [
       "<Figure size 432x288 with 1 Axes>"
      ]
     },
     "metadata": {},
     "output_type": "display_data"
    }
   ],
   "source": [
    "# Plot \n",
    "points = transformed + [proj_C]\n",
    "lines  = [[aff_A, aff_B], [aff_C, proj_C]]\n",
    "labels = ['shifted_A', 'shifted_B', 'shifted_mid_A_B', 'shifted_C', 'proj_C']\n",
    "plot(points, lines, labels)"
   ]
  },
  {
   "cell_type": "code",
   "execution_count": 19,
   "id": "f044e97d",
   "metadata": {},
   "outputs": [
    {
     "data": {
      "text/plain": [
       "1.2538920696157714"
      ]
     },
     "execution_count": 19,
     "metadata": {},
     "output_type": "execute_result"
    }
   ],
   "source": [
    "dist = np.linalg.norm(proj_C)\n",
    "dist_to_A = np.linalg.norm(proj_C - aff_A)\n",
    "dist_to_B = np.linalg.norm(proj_C - aff_B)\n",
    "sign = 1 if dist_to_B < dist_to_A else -1\n",
    "value = sign * dist\n",
    "value"
   ]
  },
  {
   "cell_type": "markdown",
   "id": "b3248f17",
   "metadata": {},
   "source": [
    "## Axis class"
   ]
  },
  {
   "cell_type": "markdown",
   "id": "a682ced1",
   "metadata": {},
   "source": [
    "Rewriting all as a function"
   ]
  },
  {
   "cell_type": "code",
   "execution_count": 184,
   "id": "7fd77bcf",
   "metadata": {},
   "outputs": [],
   "source": [
    "class axis:\n",
    "    \n",
    "    def __init__(self, negative_pole, positive_pole):\n",
    "        \n",
    "        self.dims = len(negative_pole)\n",
    "        \n",
    "        # Original values\n",
    "        self.A = negative_pole \n",
    "        self.B = positive_pole\n",
    "        self.M = midpoint(negative_pole, positive_pole)  \n",
    "        \n",
    "        # Transformation\n",
    "        self.transform = self.transformation_matrix(self.M)       \n",
    "        self.shifted_A = self.shift(negative_pole)\n",
    "        self.shifted_B = self.shift(positive_pole)\n",
    "        \n",
    "        self.direction = self.shifted_B / np.linalg.norm(self.shifted_B)\n",
    "        # shifted_M is (0, 0, ...)\n",
    "    \n",
    "    def extend_with_one(self, V):\n",
    "        V = V[np.newaxis].T\n",
    "        return np.vstack([V, [1]])      \n",
    "    \n",
    "    def transformation_matrix(self, M):\n",
    "        mat = np.eye(self.dims + 1)\n",
    "        mat[0:self.dims, -1] = -M\n",
    "        return mat   \n",
    "    \n",
    "    def shift(self, V):\n",
    "        return (self.transform @ self.extend_with_one(V))[0:self.dims]\n",
    "    \n",
    "    def project(self, V):\n",
    "        shifted_V = self.shift(V)\n",
    "        return (shifted_V.T @ self.direction) / (self.direction.T @ self.direction) * self.direction\n",
    "   \n",
    "    def __call__(self, V):\n",
    "        proj_V = self.project(V)\n",
    "        dist = np.linalg.norm(proj_V)\n",
    "        dist_to_A = np.linalg.norm(proj_V - self.shifted_A)\n",
    "        dist_to_B = np.linalg.norm(proj_V - self.shifted_B)\n",
    "        sign = 1 if dist_to_B < dist_to_A else -1\n",
    "        value = sign * dist\n",
    "        return value"
   ]
  },
  {
   "cell_type": "code",
   "execution_count": 192,
   "id": "6eddafb7",
   "metadata": {},
   "outputs": [
    {
     "data": {
      "image/png": "[encoded data removed]",
      "text/plain": [
       "<Figure size 432x288 with 1 Axes>"
      ]
     },
     "metadata": {},
     "output_type": "display_data"
    }
   ],
   "source": [
    "# Points lying on the straight line\n",
    "A = np.array([-10, 2])\n",
    "B = np.array([5, 18]) # 18\n",
    "C = np.array([-6, 15])\n",
    "\n",
    "axis_a_b = axis(A, B)\n",
    "\n",
    "points = [A, B, C, axis_a_b.M]\n",
    "shifted_points = [axis_a_b.shift(p) for p in points]\n",
    "proj_C = axis_a_b.project(C)\n",
    "shifted_points = shifted_points + [proj_C]\n",
    "\n",
    "shifted_A, shifted_B, shifted_C, shifted_M, _  = shifted_points\n",
    "\n",
    "lines  = [[shifted_A, shifted_B], [shifted_C, proj_C]]\n",
    "labels = ['shifted_A', 'shifted_B', 'shifted_C', 'shifted_M', 'proj_C']\n",
    "plot(shifted_points, lines, labels)"
   ]
  },
  {
   "cell_type": "markdown",
   "id": "a7cda301",
   "metadata": {},
   "source": [
    "## Experiment with embeddings"
   ]
  },
  {
   "cell_type": "code",
   "execution_count": 91,
   "id": "78af8c05",
   "metadata": {},
   "outputs": [],
   "source": [
    "ice_fire_axis = axis(ice.vector, fire.vector)"
   ]
  },
  {
   "cell_type": "code",
   "execution_count": 213,
   "id": "d10de797",
   "metadata": {},
   "outputs": [],
   "source": [
    "# Ice\n",
    "ice_value = ice_fire_axis(ice.vector)\n",
    "\n",
    "# Fire\n",
    "fire_value = ice_fire_axis(fire.vector)"
   ]
  },
  {
   "cell_type": "code",
   "execution_count": 228,
   "id": "abe6fd20",
   "metadata": {},
   "outputs": [],
   "source": [
    "cold = ['ice cream', 'polar', 'snow', 'winter', 'fridge', 'Antarctica']\n",
    "warm = ['boiling water', 'tropical', 'sun', 'summer', 'oven', 'Africa']"
   ]
  },
  {
   "cell_type": "code",
   "execution_count": 229,
   "id": "f01e5b53",
   "metadata": {},
   "outputs": [],
   "source": [
    "cold_vecs = [nlp(w).vector for w in cold]\n",
    "warm_vecs = [nlp(w).vector for w in warm]"
   ]
  },
  {
   "cell_type": "code",
   "execution_count": 230,
   "id": "f4e62c00",
   "metadata": {},
   "outputs": [],
   "source": [
    "cold_values = [ice_fire_axis(p) for p in cold_vecs]\n",
    "warm_values = [ice_fire_axis(p) for p in warm_vecs]"
   ]
  },
  {
   "cell_type": "code",
   "execution_count": 231,
   "id": "82766ea0",
   "metadata": {},
   "outputs": [],
   "source": [
    "all_values = cold_values + warm_values + [ice_value, fire_value]\n",
    "all_labels = cold + warm"
   ]
  },
  {
   "cell_type": "markdown",
   "id": "186ec2fe",
   "metadata": {},
   "source": [
    "# See: \n",
    "# * https://matplotlib.org/3.5.0/gallery/lines_bars_and_markers/timeline.html\n",
    "# * https://parulpandey.com/2020/08/17/advanced-plots-in-matplotlib%E2%80%8A-%E2%80%8Apart-2/\n",
    "\n",
    "fig, ax = plt.subplots(figsize=(10, 5), constrained_layout=True)\n",
    "ax.set(title=\"Word embedding vectors\")\n",
    "\n",
    "ax.plot(all_values, np.zeros_like(all_values), \"-o\",\n",
    "        color=\"k\", markerfacecolor=\"w\")  # Baseline and markers on it.\n",
    "\n",
    "# Warm values\n",
    "warm_levels = np.tile([-5, 5, -3, 3, -1, 1],\n",
    "                 int(np.ceil(len(warm_values)/6)))[:len(warm_values)]\n",
    "\n",
    "ax.vlines(warm_values, 0, warm_levels, color=\"tab:red\")  \n",
    " \n",
    "warm_vert = np.array(['top', 'bottom'])[(warm_levels > 0).astype(int)]\n",
    "\n",
    "for d, l, r, va in zip(warm_values, warm_levels, warm, warm_vert):\n",
    "    ax.annotate(r, xy=(d, l), xytext=(1, np.sign(l)*3),\n",
    "                textcoords=\"offset points\", va=va, ha=\"right\")\n",
    "    \n",
    "# Cold values\n",
    "cold_levels = np.tile([-5, 5, -3, 3, -1, 1],\n",
    "                 int(np.ceil(len(cold_values)/6)))[:len(cold_values)]\n",
    "ax.vlines(cold_values, 0, cold_levels, color=\"tab:blue\")  \n",
    "cold_vert = np.array(['top', 'bottom'])[(cold_levels > 0).astype(int)]\n",
    "\n",
    "for d, l, r, va in zip(cold_values, cold_levels, cold, cold_vert):\n",
    "    ax.annotate(r, xy=(d, l), xytext=(1, np.sign(l)*3),\n",
    "                textcoords=\"offset points\", va=va, ha=\"right\")\n",
    "\n",
    "# Addings \"poles\"\n",
    "ax.vlines(fire_value, 0, 4, color=\"red\")  \n",
    "ax.annotate(\"fire\", xy=(fire_value, 4), xytext=(4, np.sign(4)*3),\n",
    "            textcoords=\"offset points\", va=va, ha=\"right\", weight='bold')\n",
    "\n",
    "ax.vlines(ice_value, 0, 4, color=\"blue\")  \n",
    "ax.annotate(\"ice\", xy=(ice_value, 4), xytext=(4, np.sign(4)*3),\n",
    "            textcoords=\"offset points\", va=va, ha=\"right\", weight='bold')\n",
    "    \n",
    "ax.yaxis.set_visible(False)\n",
    "ax.spines[[\"left\", \"top\", \"right\"]].set_visible(False)\n",
    "\n",
    "ax.margins(y=0.1)\n",
    "plt.show()"
   ]
  },
  {
   "cell_type": "markdown",
   "id": "154a93a5",
   "metadata": {},
   "source": [
    "## Conclusions"
   ]
  },
  {
   "cell_type": "markdown",
   "id": "b70c33b9",
   "metadata": {},
   "source": [
    "As we can see, in this case the meaning of the distance between \"ice\" and \"fire\" looks as expected. \"Cold words\" are closer to the *negative pole* while the \"warm words* - to the *positive pole*."
   ]
  }
 ],
 "metadata": {
  "kernelspec": {
   "display_name": "Python 3 (Spyder)",
   "language": "python3",
   "name": "python3"
  },
  "language_info": {
   "codemirror_mode": {
    "name": "ipython",
    "version": 3
   },
   "file_extension": ".py",
   "mimetype": "text/x-python",
   "name": "python",
   "nbconvert_exporter": "python",
   "pygments_lexer": "ipython3",
   "version": "3.8.10"
  }
 },
 "nbformat": 4,
 "nbformat_minor": 5
}
