{
 "cells": [
  {
   "cell_type": "markdown",
   "id": "222f46d6",
   "metadata": {},
   "source": [
    "# How cool is cucumber? Experiments with word embedding"
   ]
  },
  {
   "cell_type": "markdown",
   "id": "183b202b",
   "metadata": {},
   "source": [
    "We all know old, good and hackneyed examples, that are typically used to intuitively explain, what the **word embedding** technique is. We almost always come across a chart presenting a simplified, 2-dimensional vector representation of words **queen** and **king**, which are distant from each other in the similar length as words **woman** and **man**. "
   ]
  },
  {
   "cell_type": "markdown",
   "id": "17958a59",
   "metadata": {},
   "source": [
    "One of the most convenient ways to get **embedding vectors** for natural language is to use pre-trained models distributed with [**spacy**](https://spacy.io/) library."
   ]
  },
  {
   "cell_type": "code",
   "execution_count": 1,
   "id": "77027bd4",
   "metadata": {},
   "outputs": [],
   "source": [
    "import numpy as np\n",
    "import numpy.typing as npt\n",
    "import spacy\n",
    "import matplotlib.pyplot as plt"
   ]
  },
  {
   "cell_type": "code",
   "execution_count": 2,
   "id": "1469dfb7",
   "metadata": {},
   "outputs": [],
   "source": [
    "# Installing en_core_web_mdn\n",
    "nlp = spacy.load('en_core_web_md')"
   ]
  },
  {
   "cell_type": "code",
   "execution_count": 3,
   "id": "7892c710",
   "metadata": {},
   "outputs": [],
   "source": [
    "fire = nlp('fire')\n",
    "ice = nlp('ice')"
   ]
  },
  {
   "cell_type": "code",
   "execution_count": 4,
   "id": "8de201e9",
   "metadata": {},
   "outputs": [
    {
     "data": {
      "text/plain": [
       "300"
      ]
     },
     "execution_count": 4,
     "metadata": {},
     "output_type": "execute_result"
    }
   ],
   "source": [
    "len(fire.vector)"
   ]
  },
  {
   "cell_type": "markdown",
   "id": "b724d221",
   "metadata": {},
   "source": [
    "A couple of simple function calls, but there is a lot work done behind the scene. In fact, we can use **nlp** object to process whole sentences (or documents) at once. For now, we only need to process single words."
   ]
  },
  {
   "cell_type": "markdown",
   "id": "2f889049",
   "metadata": {},
   "source": [
    "## Math behind"
   ]
  },
  {
   "cell_type": "markdown",
   "id": "aa4d5742",
   "metadata": {},
   "source": [
    "### Adding a new axis"
   ]
  },
  {
   "cell_type": "markdown",
   "id": "eca86a6c",
   "metadata": {},
   "source": [
    "The experiment I'd like to conduct is to \"draw\" a straight line in n-dimensional space and treat it as a new axis. It's possible if we project the considered points on this line."
   ]
  },
  {
   "cell_type": "markdown",
   "id": "91b44dbe",
   "metadata": {},
   "source": [
    "### Line in n-dimensional space"
   ]
  },
  {
   "cell_type": "markdown",
   "id": "a9b36fc7",
   "metadata": {},
   "source": [
    "First of all, we find an equation of a line generalized to n-dimensional space. Such straight line can be unambiguously determined using a point lying on this line and so-called **direction vector**."
   ]
  },
  {
   "cell_type": "markdown",
   "id": "742a2459",
   "metadata": {},
   "source": [
    "<center>\n",
    "$\\vec{d} = (l, m, n, ...)$\n",
    "</center>"
   ]
  },
  {
   "cell_type": "markdown",
   "id": "7488e7a7",
   "metadata": {},
   "source": [
    "Given the points $A = (x, y, z)$ and $B = (x_{1}, y_{1}, z_{1})$, it's simply computed as a elementwise difference between these two points, namely:"
   ]
  },
  {
   "cell_type": "markdown",
   "id": "ca6d5bd2",
   "metadata": {},
   "source": [
    "<center>\n",
    "$ \\vec{d} = A - B = (x, y, z, ...) - (x_{1}, y_{1}, z_{1}, ...) $\n",
    "</center>"
   ]
  },
  {
   "cell_type": "markdown",
   "id": "8bbd1971",
   "metadata": {},
   "source": [
    "In our case, it can be defined as follows:"
   ]
  },
  {
   "cell_type": "code",
   "execution_count": 5,
   "id": "c1e50dc2",
   "metadata": {},
   "outputs": [],
   "source": [
    "direction = fire.vector - ice.vector"
   ]
  },
  {
   "cell_type": "markdown",
   "id": "066ec207",
   "metadata": {},
   "source": [
    "Complete equation:\n",
    "\n",
    "<center>\n",
    "$ \\frac{x - x_{1}}{l}  = \\frac{y - y_{1}}{m} = \\frac{z - z_{1}}{n} =   \\ ...$\n",
    "</center>\n",
    "\n"
   ]
  },
  {
   "cell_type": "markdown",
   "id": "596342bc",
   "metadata": {},
   "source": [
    "We also will use a **midpoint** between two initial points as beginining of our new axis.\n",
    "It can be calculated with the following formula:\n",
    "\n",
    "<center>\n",
    "$  M = (\\frac{x + x_{1}}{2}, \\frac{y + y_{1}}{2}, \\frac{z + z_{1}}{2}, ...) $\n",
    "</center>"
   ]
  },
  {
   "cell_type": "markdown",
   "id": "65f5d89c",
   "metadata": {},
   "source": [
    "Writing that as a function:"
   ]
  },
  {
   "cell_type": "code",
   "execution_count": 7,
   "id": "2664cd01",
   "metadata": {},
   "outputs": [],
   "source": [
    "def midpoint(x: npt.NDArray, y: npt.NDArray) -> npt.NDArray:\n",
    "    if (len(x) != len(y)):\n",
    "        raise ValueError(\n",
    "            f'Vectors come from different spaces! ' + \n",
    "            f'x: {len(x)} dimensions, y: {len(y)} dimensions')\n",
    "    return (x + y) / 2"
   ]
  },
  {
   "cell_type": "code",
   "execution_count": 8,
   "id": "39d1c9bf",
   "metadata": {},
   "outputs": [],
   "source": [
    "# midpoint(np.array([2, 3]), np.array([-1, 20]))\n",
    "# midpoint(np.array([2, 3]), np.array([-1, 20, -45]))"
   ]
  },
  {
   "cell_type": "code",
   "execution_count": 9,
   "id": "d28796f1",
   "metadata": {},
   "outputs": [],
   "source": [
    "mid = midpoint(fire.vector, ice.vector)"
   ]
  },
  {
   "cell_type": "markdown",
   "id": "5db7dd42",
   "metadata": {},
   "source": [
    "Two values that we need for the moment:\n",
    "* ```mid```\n",
    "* ```direction```"
   ]
  },
  {
   "cell_type": "markdown",
   "id": "25226e00",
   "metadata": {},
   "source": [
    "### Let's draw it "
   ]
  },
  {
   "cell_type": "code",
   "execution_count": 11,
   "id": "6a42288b",
   "metadata": {},
   "outputs": [
    {
     "data": {
      "image/png": "[encoded data removed]",
      "text/plain": [
       "<Figure size 432x288 with 1 Axes>"
      ]
     },
     "metadata": {},
     "output_type": "display_data"
    }
   ],
   "source": [
    "# Points lying on the straight line\n",
    "a = np.array([-10, 2])\n",
    "b = np.array([5, 18]) # 18\n",
    "\n",
    "# a = np.array([2, 2])\n",
    "# b = np.array([-2, -2])\n",
    "\n",
    "mid_a_b = midpoint(a, b)\n",
    "\n",
    "c = np.array([-6, 15])\n",
    "#c = np.array([2, 15])\n",
    "\n",
    "points = [a, b, mid_a_b, c]\n",
    "labels = ['A', 'B', 'mid_A_B', 'C']\n",
    "\n",
    "points_x = [x[0] for x in points]\n",
    "points_y = [x[1] for x in points]\n",
    "\n",
    "\n",
    "plt.plot([a[0], b[0]], [a[1], b[1]])\n",
    "\n",
    "for coords, lbl in zip(points, labels):\n",
    "    plt.text(coords[0], coords[1], lbl)\n",
    "\n",
    "plt.plot(points_x, points_y, '.')\n",
    "# Line\n",
    "plt.grid()\n",
    "plt.axhline(linewidth=1, color='black')\n",
    "plt.axvline(linewidth=1, color='black')\n",
    "plt.show()"
   ]
  },
  {
   "cell_type": "markdown",
   "id": "02e92482",
   "metadata": {},
   "source": [
    "As we can see, the line doesn't pass trough the origin. It means we cannot simply project C point using the **dot product** operation. First, we have to apply **affine transformation** to shift the whole space."
   ]
  },
  {
   "cell_type": "code",
   "execution_count": 12,
   "id": "6070941e",
   "metadata": {},
   "outputs": [
    {
     "data": {
      "text/plain": [
       "array([[  1. ,   0. ,   2.5],\n",
       "       [  0. ,   1. , -10. ],\n",
       "       [  0. ,   0. ,   1. ]])"
      ]
     },
     "execution_count": 12,
     "metadata": {},
     "output_type": "execute_result"
    }
   ],
   "source": [
    "affine_transform_matrix = np.eye(3)\n",
    "affine_transform_matrix[0:2, -1] = -mid_a_b\n",
    "affine_transform_matrix"
   ]
  },
  {
   "cell_type": "code",
   "execution_count": 13,
   "id": "273edce9",
   "metadata": {},
   "outputs": [],
   "source": [
    "# tranformed_a = affine_transform_matrix @ np.vstack(a.T, [1])\n",
    "def extend_with_one(vec):\n",
    "    vec = vec[np.newaxis].T\n",
    "    return np.vstack([vec, [1]])  \n",
    "\n",
    "transposed_vecs = [extend_with_one(p) for p in points]\n",
    "transformed_vecs = [affine_transform_matrix @ vec for vec in transposed_vecs]"
   ]
  },
  {
   "cell_type": "code",
   "execution_count": 28,
   "id": "f8d95044",
   "metadata": {},
   "outputs": [
    {
     "data": {
      "image/png": "[encoded data removed]",
      "text/plain": [
       "<Figure size 432x288 with 1 Axes>"
      ]
     },
     "metadata": {},
     "output_type": "display_data"
    }
   ],
   "source": [
    "points = transformed_vecs\n",
    "labels = ['shifted_A', 'shifted_B', 'shifted_mid_A_B', 'shifted_C']\n",
    "\n",
    "points_x = [x[0] for x in points]\n",
    "points_y = [x[1] for x in points]\n",
    "\n",
    "aff_a, aff_b, aff_mid_a_b, aff_c = transformed_vecs\n",
    "\n",
    "plt.plot([aff_a[0], aff_b[0]], [aff_a[1], aff_b[1]])\n",
    "\n",
    "for coords, lbl in zip(points, labels):\n",
    "    plt.text(coords[0], coords[1], lbl)\n",
    "\n",
    "plt.plot(points_x, points_y, '.')\n",
    "# Line\n",
    "plt.grid()\n",
    "plt.axhline(linewidth=1, color='black')\n",
    "plt.axvline(linewidth=1, color='black')\n",
    "plt.show()"
   ]
  },
  {
   "cell_type": "code",
   "execution_count": 29,
   "id": "e5622237",
   "metadata": {},
   "outputs": [],
   "source": [
    "## Projection\n",
    "# https://en.wikibooks.org/wiki/Linear_Algebra/Orthogonal_Projection_Onto_a_Line\n",
    "# https://www.youtube.com/watch?v=Ce1CP30Oa4w\n",
    "# http://faculty.salina.k-state.edu/tim/DAT/linAlg/projection/projectR2.html"
   ]
  },
  {
   "cell_type": "code",
   "execution_count": 30,
   "id": "73317aaf",
   "metadata": {},
   "outputs": [
    {
     "data": {
      "text/plain": [
       "array([[0.85758836],\n",
       "       [0.91476091]])"
      ]
     },
     "execution_count": 30,
     "metadata": {},
     "output_type": "execute_result"
    }
   ],
   "source": [
    "aff_mid_a_b, aff_b, aff_c = aff_mid_a_b[0:2], aff_b[0:2], aff_c[0:2]\n",
    "dir_vec = (aff_b) / np.linalg.norm(aff_b)\n",
    "\n",
    "proj_c = (aff_c.T @ dir_vec) / (dir_vec.T @ dir_vec) * dir_vec\n",
    "\n",
    "dir_vec\n",
    "proj_c"
   ]
  },
  {
   "cell_type": "code",
   "execution_count": 33,
   "id": "d7affe40",
   "metadata": {},
   "outputs": [
    {
     "data": {
      "image/png": "[encoded data removed]",
      "text/plain": [
       "<Figure size 432x288 with 1 Axes>"
      ]
     },
     "metadata": {},
     "output_type": "display_data"
    }
   ],
   "source": [
    "# Plot \n",
    "points = points + [proj_c]\n",
    "labels = ['shifted_A', 'shifted_B', 'shifted_mid_A_B', 'shifted_C', 'proj_c']\n",
    "\n",
    "points_x = [x[0] for x in points]\n",
    "points_y = [x[1] for x in points]\n",
    "\n",
    "aff_a, aff_b, aff_mid_a_b, aff_c = transformed_vecs\n",
    "\n",
    "plt.plot([aff_a[0], aff_b[0]], [aff_a[1], aff_b[1]])\n",
    "plt.plot([aff_c[0], proj_c[0]], [aff_c[1], proj_c[1]])\n",
    "\n",
    "for coords, lbl in zip(points, labels):\n",
    "    plt.text(coords[0], coords[1], lbl)\n",
    "\n",
    "plt.plot(points_x, points_y, '.')\n",
    "# Line\n",
    "plt.grid()\n",
    "plt.axhline(linewidth=1, color='black')\n",
    "plt.axvline(linewidth=1, color='black')\n",
    "plt.axis('equal')\n",
    "plt.show()"
   ]
  },
  {
   "cell_type": "markdown",
   "id": "e2a2a6b7",
   "metadata": {},
   "source": [
    "## Rotation matrix "
   ]
  },
  {
   "cell_type": "code",
   "execution_count": 92,
   "id": "b467cea5",
   "metadata": {},
   "outputs": [
    {
     "data": {
      "text/plain": [
       "array([[0.95831485, 1.        ],\n",
       "       [1.        , 0.95831485]])"
      ]
     },
     "execution_count": 92,
     "metadata": {},
     "output_type": "execute_result"
    }
   ],
   "source": [
    "# Finding angle between shifted_b and x axis\n",
    "# https://www.cuemath.com/geometry/angle-between-vectors/\n",
    "# https://math.stackexchange.com/questions/3325544/mathematical-notation-for-orthogonal-projection-of-a-set-of-points-on-a-line\n",
    "vec_2 = np.array([[1], [0]])\n",
    "mag_shifted_b = np.linalg.norm(aff_b)\n",
    "mag_shifted_vec_2 = np.linalg.norm(vec_2)\n",
    "\n",
    "cos_theta = (vec_2.T @ aff_b[:-1, ]) / (mag_shifted_b * mag_shifted_vec_2)\n",
    "cos_theta = cos_theta[0, 0]\n",
    "\n",
    "rotation_matrix = np.array([[cos_theta, 1], [1, cos_theta]])\n",
    "\n",
    "rotation_matrix\n",
    "# https://math.stackexchange.com/questions/1910825/how-do-i-find-the-angle-a-vector-makes-to-the-x-axis\n",
    "# theta = np.cos(aff_b[0] / np.linalg.norm(aff_b - aff_mid_a_b)) ** -1\n",
    "# np.degrees(theta)"
   ]
  },
  {
   "cell_type": "markdown",
   "id": "33e27c13",
   "metadata": {},
   "source": [
    "## Distance from a new point to the beggining of the axis"
   ]
  },
  {
   "cell_type": "markdown",
   "id": "de8bd030",
   "metadata": {},
   "source": [
    "Next, we compute distance from a point to the begining of the aforementioned new axis."
   ]
  },
  {
   "cell_type": "code",
   "execution_count": 9,
   "id": "30c04079",
   "metadata": {},
   "outputs": [],
   "source": [
    "# https://math.stackexchange.com/questions/1905533/find-perpendicular-distance-from-point-to-line-in-3d\n",
    "# https://onlinemschool.com/math/library/analytic_geometry/p_line/\n",
    "# https://www.nagwa.com/en/explainers/349153496801/\n",
    "# https://softwareengineering.stackexchange.com/questions/168572/distance-from-point-to-n-dimensional-line"
   ]
  },
  {
   "cell_type": "code",
   "execution_count": 10,
   "id": "8513d401",
   "metadata": {},
   "outputs": [],
   "source": [
    "cucumber = nlp('cucumber')"
   ]
  },
  {
   "cell_type": "markdown",
   "id": "8bfd4c7d",
   "metadata": {},
   "source": [
    "<center>\n",
    "$\\overline{MC} = M - C $\n",
    "<\\center>"
   ]
  },
  {
   "cell_type": "code",
   "execution_count": 42,
   "id": "91de35e2",
   "metadata": {},
   "outputs": [],
   "source": [
    "# mc_dist = mid - cucumber.vector"
   ]
  },
  {
   "cell_type": "markdown",
   "id": "58885328",
   "metadata": {},
   "source": [
    "## Axis class"
   ]
  },
  {
   "cell_type": "code",
   "execution_count": 43,
   "id": "346e3c1e",
   "metadata": {},
   "outputs": [],
   "source": [
    "projection_dist = mc_dist @ direction"
   ]
  },
  {
   "cell_type": "code",
   "execution_count": 44,
   "id": "6f72a034",
   "metadata": {},
   "outputs": [
    {
     "data": {
      "text/plain": [
       "6.8615074"
      ]
     },
     "execution_count": 44,
     "metadata": {},
     "output_type": "execute_result"
    }
   ],
   "source": [
    "projection_dist"
   ]
  },
  {
   "cell_type": "markdown",
   "id": "96d80681",
   "metadata": {},
   "source": [
    "Rewriting all as a function"
   ]
  },
  {
   "cell_type": "code",
   "execution_count": 81,
   "id": "6cf92b53",
   "metadata": {},
   "outputs": [],
   "source": [
    "# https://math.stackexchange.com/questions/2397750/orthogonal-projection-of-point-onto-line-not-through-origin\n",
    "# Affine transformation\n",
    "class axis:\n",
    "    \n",
    "    def __init__(self, x, y):\n",
    "        self.x = x \n",
    "        self.y = y\n",
    "        self.mid = midpoint(x, y)\n",
    "        self.direction = (x - self.mid) / np.linalg.norm(x - self.mid)\n",
    "        \n",
    "        self.pole_x = self(x)\n",
    "        self.pole_y = self(y)\n",
    "        \n",
    "    def __call__(self, vec): \n",
    "        return (vec - self.mid) @ self.direction\n",
    "    \n",
    "    def project(self, vec):\n",
    "        return self.mid - self(vec) * self.direction"
   ]
  },
  {
   "cell_type": "code",
   "execution_count": 82,
   "id": "695c84c9",
   "metadata": {},
   "outputs": [],
   "source": [
    "## Simplified example in 2-dimensional space"
   ]
  },
  {
   "cell_type": "code",
   "execution_count": 83,
   "id": "877c99d2",
   "metadata": {},
   "outputs": [],
   "source": [
    "# To discover potential bugs in the code we've written, \n",
    "# we make a simple experiment using a comprehensible example in 2-dimensional space."
   ]
  },
  {
   "cell_type": "code",
   "execution_count": 87,
   "id": "bab637a2",
   "metadata": {},
   "outputs": [
    {
     "data": {
      "image/png": "[encoded data removed]",
      "text/plain": [
       "<Figure size 432x288 with 1 Axes>"
      ]
     },
     "metadata": {},
     "output_type": "display_data"
    },
    {
     "data": {
      "text/plain": [
       "array([0., 0.])"
      ]
     },
     "execution_count": 87,
     "metadata": {},
     "output_type": "execute_result"
    }
   ],
   "source": [
    "# Points lying on the straight line\n",
    "a = np.array([-10, 2])\n",
    "b = np.array([5, 18])\n",
    "\n",
    "# a = np.array([2, 2])\n",
    "# b = np.array([-2, -2])\n",
    "\n",
    "line_a_b = axis(a, b)\n",
    "mid_a_b = line_a_b.mid\n",
    "\n",
    "c = np.array([-6, 15])\n",
    "proj_c = line_a_b.project(c)\n",
    "\n",
    "points = [a, b, mid_a_b, c, proj_c]\n",
    "\n",
    "points_x = [x[0] for x in points]\n",
    "points_y = [x[1] for x in points]\n",
    "\n",
    "\n",
    "plt.plot([a[0], b[0]], [a[1], b[1]])\n",
    "plt.plot(points_x, points_y, '.')\n",
    "# Line\n",
    "plt.plot([c[0], proj_c[0]], [c[1], proj_c[1]], '-')\n",
    "plt.grid()\n",
    "plt.axhline(linewidth=1, color='black')\n",
    "plt.axvline(linewidth=1, color='black')\n",
    "plt.show()\n",
    "\n",
    "mid_a_b"
   ]
  },
  {
   "cell_type": "markdown",
   "id": "1b188ce2",
   "metadata": {},
   "source": [
    "## Experiment with embeddings"
   ]
  },
  {
   "cell_type": "code",
   "execution_count": 75,
   "id": "0eab00a9",
   "metadata": {},
   "outputs": [],
   "source": [
    "ice_fire_axis = axis(ice.vector, fire.vector)"
   ]
  },
  {
   "cell_type": "code",
   "execution_count": 29,
   "id": "d7dedd8c",
   "metadata": {},
   "outputs": [
    {
     "data": {
      "text/plain": [
       "-4.104704"
      ]
     },
     "execution_count": 29,
     "metadata": {},
     "output_type": "execute_result"
    }
   ],
   "source": [
    "# Ice\n",
    "ice_fire_axis.pole_x\n",
    "\n",
    "# Fire\n",
    "ice_fire_axis.pole_y"
   ]
  },
  {
   "cell_type": "code",
   "execution_count": 30,
   "id": "66992be8",
   "metadata": {},
   "outputs": [
    {
     "data": {
      "text/plain": [
       "1.5802484"
      ]
     },
     "execution_count": 30,
     "metadata": {},
     "output_type": "execute_result"
    }
   ],
   "source": [
    "ice_fire_axis(nlp('icecream').vector)"
   ]
  },
  {
   "cell_type": "code",
   "execution_count": 31,
   "id": "edd9a304",
   "metadata": {},
   "outputs": [
    {
     "data": {
      "text/plain": [
       "1.3376285"
      ]
     },
     "execution_count": 31,
     "metadata": {},
     "output_type": "execute_result"
    }
   ],
   "source": [
    "ice_fire_axis(nlp('polar').vector)"
   ]
  },
  {
   "cell_type": "code",
   "execution_count": 32,
   "id": "38b8773c",
   "metadata": {},
   "outputs": [
    {
     "data": {
      "text/plain": [
       "array([4., 2.])"
      ]
     },
     "execution_count": 32,
     "metadata": {},
     "output_type": "execute_result"
    }
   ],
   "source": [
    "axis(np.array([1, 2]), np.array([10, 2])).project(np.array([4, 5]))"
   ]
  },
  {
   "cell_type": "code",
   "execution_count": 34,
   "id": "ea48fbbf",
   "metadata": {},
   "outputs": [
    {
     "data": {
      "image/png": "[encoded data removed]",
      "text/plain": [
       "<Figure size 432x288 with 1 Axes>"
      ]
     },
     "metadata": {},
     "output_type": "display_data"
    },
    {
     "data": {
      "text/plain": [
       "array([3.5, 1.5])"
      ]
     },
     "execution_count": 34,
     "metadata": {},
     "output_type": "execute_result"
    }
   ],
   "source": [
    "# a = np.array([1, 2])\n",
    "# b = np.array([10, 2])\n",
    "# c = np.array([4, 5])\n",
    "\n",
    "a = np.array([2, 0])\n",
    "b = np.array([5, 3])\n",
    "c = np.array([2, 3])\n",
    "\n",
    "line_a_b = axis(a, b)\n",
    "mid_a_b = line_a_b.mid\n",
    "\n",
    "\n",
    "proj_c = line_a_b.project(c)\n",
    "\n",
    "points = [a, b, mid_a_b, c, proj_c]\n",
    "\n",
    "points_x = [x[0] for x in points]\n",
    "points_y = [x[1] for x in points]\n",
    "\n",
    "\n",
    "plt.plot([a[0], b[0]], [a[1], b[1]])\n",
    "plt.plot(points_x, points_y, '.')\n",
    "# Line\n",
    "plt.plot([c[0], proj_c[0]], [c[1], proj_c[1]], '-')\n",
    "plt.grid()\n",
    "plt.axhline(linewidth=1, color='black')\n",
    "plt.axvline(linewidth=1, color='black')\n",
    "plt.show()\n",
    "\n",
    "proj_c"
   ]
  },
  {
   "cell_type": "code",
   "execution_count": 35,
   "id": "58d50c39",
   "metadata": {},
   "outputs": [
    {
     "data": {
      "text/plain": [
       "array([-0.70710678, -0.70710678])"
      ]
     },
     "execution_count": 35,
     "metadata": {},
     "output_type": "execute_result"
    }
   ],
   "source": [
    "line_a_b.direction"
   ]
  },
  {
   "cell_type": "code",
   "execution_count": 36,
   "id": "18f6ce04",
   "metadata": {},
   "outputs": [
    {
     "data": {
      "text/plain": [
       "array([-1.5, -1.5])"
      ]
     },
     "execution_count": 36,
     "metadata": {},
     "output_type": "execute_result"
    }
   ],
   "source": [
    "line_a_b.x - line_a_b.mid"
   ]
  },
  {
   "cell_type": "code",
   "execution_count": 37,
   "id": "aa564314",
   "metadata": {},
   "outputs": [
    {
     "data": {
      "text/plain": [
       "array([2, 0])"
      ]
     },
     "execution_count": 37,
     "metadata": {},
     "output_type": "execute_result"
    }
   ],
   "source": [
    "line_a_b.x "
   ]
  },
  {
   "cell_type": "code",
   "execution_count": null,
   "id": "e88bf646",
   "metadata": {},
   "outputs": [],
   "source": []
  }
 ],
 "metadata": {
  "kernelspec": {
   "display_name": "Python 3 (Spyder)",
   "language": "python3",
   "name": "python3"
  },
  "language_info": {
   "codemirror_mode": {
    "name": "ipython",
    "version": 3
   },
   "file_extension": ".py",
   "mimetype": "text/x-python",
   "name": "python",
   "nbconvert_exporter": "python",
   "pygments_lexer": "ipython3",
   "version": "3.8.10"
  }
 },
 "nbformat": 4,
 "nbformat_minor": 5
}
