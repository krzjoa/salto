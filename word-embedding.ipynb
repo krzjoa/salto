{
 "cells": [
  {
   "cell_type": "markdown",
   "id": "7d8861bf",
   "metadata": {},
   "source": [
    "# How cool is cucumber? Experiments with word embedding"
   ]
  },
  {
   "cell_type": "markdown",
   "id": "d08144a9",
   "metadata": {},
   "source": [
    "We all know old, good and hackneyed examples, that are typically used to intuitively explain, what the **word embedding** technique is. We almost always come across a chart presenting a simplified, 2-dimensional vector representation of words **queen** and **king**, which are distant from each other in the similar length as words **woman** and **man**. "
   ]
  },
  {
   "cell_type": "markdown",
   "id": "5c5f9afe",
   "metadata": {},
   "source": [
    "One of the most convenient ways to get **embedding vectors** for natural language is to use pre-trained models distributed with [**spacy**](https://spacy.io/) library."
   ]
  },
  {
   "cell_type": "code",
   "execution_count": 3,
   "id": "9bebb81d",
   "metadata": {},
   "outputs": [],
   "source": [
    "import numpy as np\n",
    "import numpy.typing as npt\n",
    "import spacy\n",
    "import matplotlib.pyplot as plt"
   ]
  },
  {
   "cell_type": "code",
   "execution_count": 4,
   "id": "35bc1b69",
   "metadata": {},
   "outputs": [],
   "source": [
    "# Installing en_core_web_mdn\n",
    "lp = spacy.load('en_core_web_md')"
   ]
  },
  {
   "cell_type": "code",
   "execution_count": 5,
   "id": "574618a9",
   "metadata": {},
   "outputs": [],
   "source": [
    "fire = nlp('fire')\n",
    "ice = nlp('ice')"
   ]
  },
  {
   "cell_type": "code",
   "execution_count": 6,
   "id": "ca87d8ba",
   "metadata": {},
   "outputs": [
    {
     "data": {
      "text/plain": [
       "300"
      ]
     },
     "execution_count": 6,
     "metadata": {},
     "output_type": "execute_result"
    }
   ],
   "source": [
    "len(fire.vector)"
   ]
  },
  {
   "cell_type": "markdown",
   "id": "19972d03",
   "metadata": {},
   "source": [
    "A couple of simple function calls, but there is a lot work done behind the scene. In fact, we can use **nlp** object to process whole sentences (or documents) at once. For now, we only need to process single words."
   ]
  },
  {
   "cell_type": "markdown",
   "id": "a2d6e54a",
   "metadata": {},
   "source": [
    "## Adding a new axis"
   ]
  },
  {
   "cell_type": "markdown",
   "id": "679979e6",
   "metadata": {},
   "source": [
    "The experiment I'd like to conduct is to \"draw\" a straight line in n-dimensional space and treat it as a new axis. It's possible if we project the considered points on this line."
   ]
  },
  {
   "cell_type": "markdown",
   "id": "5cdeaea4",
   "metadata": {},
   "source": [
    "## Line in n-dimensional space"
   ]
  },
  {
   "cell_type": "markdown",
   "id": "4d152019",
   "metadata": {},
   "source": [
    "First of all, we find an equation of a line generalized to n-dimensional space. Such straight line can be unambiguously determined using a point lying on this line and so-called **direction vector**."
   ]
  },
  {
   "cell_type": "markdown",
   "id": "5066d851",
   "metadata": {},
   "source": [
    "<center>\n",
    "$\\vec{d} = (l, m, n, ...)$\n",
    "</center>"
   ]
  },
  {
   "cell_type": "markdown",
   "id": "faf68c28",
   "metadata": {},
   "source": [
    "Given the points $A = (x, y, z)$ and $B = (x_{1}, y_{1}, z_{1})$, it's simply computed as a elementwise difference between these two points, namely:"
   ]
  },
  {
   "cell_type": "markdown",
   "id": "d26602a0",
   "metadata": {},
   "source": [
    "<center>\n",
    "$ \\vec{d} = A - B = (x, y, z, ...) - (x_{1}, y_{1}, z_{1}, ...) $\n",
    "</center>"
   ]
  },
  {
   "cell_type": "markdown",
   "id": "646c6412",
   "metadata": {},
   "source": [
    "In our case, it can be defined as follows:"
   ]
  },
  {
   "cell_type": "code",
   "execution_count": 7,
   "id": "02540006",
   "metadata": {},
   "outputs": [],
   "source": [
    "direction = fire.vector - ice.vector"
   ]
  },
  {
   "cell_type": "markdown",
   "id": "9f602473",
   "metadata": {},
   "source": [
    "Complete equation:\n",
    "\n",
    "<center>\n",
    "$ \\frac{x - x_{1}}{l}  = \\frac{y - y_{1}}{m} = \\frac{z - z_{1}}{n} =   \\ ...$\n",
    "</center>\n",
    "\n"
   ]
  },
  {
   "cell_type": "markdown",
   "id": "40c1608f",
   "metadata": {},
   "source": []
  },
  {
   "cell_type": "markdown",
   "id": "418db28d",
   "metadata": {},
   "source": [
    "We also will use a **midpoint** between two initial points as beginining of our new axis.\n",
    "It can be calculated with the following formula:\n",
    "\n",
    "<center>\n",
    "$  M = (\\frac{x + x_{1}}{2}, \\frac{y + y_{1}}{2}, \\frac{z + z_{1}}{2}, ...) $\n",
    "</center>"
   ]
  },
  {
   "cell_type": "markdown",
   "id": "76c1d22c",
   "metadata": {},
   "source": [
    "Writing that as a function:"
   ]
  },
  {
   "cell_type": "code",
   "execution_count": 49,
   "id": "f4ce0c8a",
   "metadata": {},
   "outputs": [],
   "source": [
    "def midpoint(x: npt.NDArray, y: npt.NDArray) -> npt.NDArray:\n",
    "    if (len(x) != len(y)):\n",
    "        raise ValueError(\n",
    "            f'Vectors come from different spaces! ' + \n",
    "            f'x: {len(x)} dimensions, y: {len(y)} dimensions')\n",
    "    return (x + y) / 2"
   ]
  },
  {
   "cell_type": "code",
   "execution_count": 48,
   "id": "95d531ae",
   "metadata": {},
   "outputs": [
    {
     "ename": "ValueError",
     "evalue": "Vectors come from different spaces! x: 2 dimensions, y: 3 dimensions",
     "output_type": "error",
     "traceback": [
      "Traceback \u001b[0;36m(most recent call last)\u001b[0m:\n",
      "  File \u001b[1;32m\"/tmp/ipykernel_4205/3371446703.py\"\u001b[0m, line \u001b[1;32m2\u001b[0m, in \u001b[1;35m<module>\u001b[0m\n    midpoint(np.array([2, 3]), np.array([-1, 20, -45]))\n",
      "\u001b[0;36m  File \u001b[0;32m\"/tmp/ipykernel_4205/973069366.py\"\u001b[0;36m, line \u001b[0;32m3\u001b[0;36m, in \u001b[0;35mmidpoint\u001b[0;36m\u001b[0m\n\u001b[0;31m    raise ValueError(\u001b[0m\n",
      "\u001b[0;31mValueError\u001b[0m\u001b[0;31m:\u001b[0m Vectors come from different spaces! x: 2 dimensions, y: 3 dimensions\n"
     ]
    }
   ],
   "source": [
    "# midpoint(np.array([2, 3]), np.array([-1, 20]))\n",
    "# midpoint(np.array([2, 3]), np.array([-1, 20, -45]))"
   ]
  },
  {
   "cell_type": "code",
   "execution_count": 50,
   "id": "e69c535b",
   "metadata": {},
   "outputs": [],
   "source": [
    "mid = midpoint(fire.vector, ice.vector)"
   ]
  },
  {
   "cell_type": "markdown",
   "id": "bc638be9",
   "metadata": {},
   "source": [
    "Two values that we need for the moment:\n",
    "* ```mid```\n",
    "* ```direction```"
   ]
  },
  {
   "cell_type": "markdown",
   "id": "0d76ae3d",
   "metadata": {},
   "source": [
    "## Distance from a new point to the beggining of the axis"
   ]
  },
  {
   "cell_type": "markdown",
   "id": "666d39d0",
   "metadata": {},
   "source": [
    "Next, we compute distance from a point to the begining of the aforementioned new axis."
   ]
  },
  {
   "cell_type": "code",
   "execution_count": 10,
   "id": "5fdab911",
   "metadata": {},
   "outputs": [],
   "source": [
    "# https://math.stackexchange.com/questions/1905533/find-perpendicular-distance-from-point-to-line-in-3d\n",
    "# https://onlinemschool.com/math/library/analytic_geometry/p_line/\n",
    "# https://www.nagwa.com/en/explainers/349153496801/\n",
    "# https://softwareengineering.stackexchange.com/questions/168572/distance-from-point-to-n-dimensional-line"
   ]
  },
  {
   "cell_type": "code",
   "execution_count": 12,
   "id": "e9f62967",
   "metadata": {},
   "outputs": [],
   "source": [
    "cucumber = nlp('cucumber')"
   ]
  },
  {
   "cell_type": "markdown",
   "id": "190bcfee",
   "metadata": {},
   "source": [
    "<center>\n",
    "$\\overline{MC} = M - C $\n",
    "<\\center>"
   ]
  },
  {
   "cell_type": "code",
   "execution_count": 13,
   "id": "1c577c7f",
   "metadata": {},
   "outputs": [],
   "source": [
    "mc_dist = mid - cucumber.vector"
   ]
  },
  {
   "cell_type": "markdown",
   "id": "d365797d",
   "metadata": {},
   "source": [
    "## Projection"
   ]
  },
  {
   "cell_type": "code",
   "execution_count": 14,
   "id": "f5d42e4a",
   "metadata": {},
   "outputs": [],
   "source": [
    "projection_dist = mc_dist @ direction"
   ]
  },
  {
   "cell_type": "code",
   "execution_count": 15,
   "id": "628be337",
   "metadata": {},
   "outputs": [
    {
     "data": {
      "text/plain": [
       "6.8615074"
      ]
     },
     "execution_count": 15,
     "metadata": {},
     "output_type": "execute_result"
    }
   ],
   "source": [
    "projection_dist"
   ]
  },
  {
   "cell_type": "markdown",
   "id": "22fc96a2",
   "metadata": {},
   "source": [
    "Rewriting all as a function"
   ]
  },
  {
   "cell_type": "code",
   "execution_count": 59,
   "id": "22996f1d",
   "metadata": {},
   "outputs": [],
   "source": [
    "class axis:\n",
    "    \n",
    "    def __init__(self, x, y):\n",
    "        self.x = x \n",
    "        self.y = y\n",
    "        self.mid = midpoint(x, y)\n",
    "        self.direction = (x - self.midpoint) / np.linalg.norm(x - self.midpoint)\n",
    "        \n",
    "        self.pole_x = self(x)\n",
    "        self.pole_y = self(y)\n",
    "        \n",
    "    def __call__(self, vec): \n",
    "        return (vec - self.midpoint) @ self.direction\n",
    "    \n",
    "    def project(self, vec):\n",
    "        return self.midpoint + self(vec) * self.direction"
   ]
  },
  {
   "cell_type": "code",
   "execution_count": 56,
   "id": "1cacee78",
   "metadata": {},
   "outputs": [],
   "source": [
    "## Simplified example in 2-dimensional space"
   ]
  },
  {
   "cell_type": "code",
   "execution_count": 57,
   "id": "cbc6ee8d",
   "metadata": {},
   "outputs": [],
   "source": [
    "# To discover potential bugs in the code we've written, \n",
    "# we make a simple experiment using a comprehensible example in 2-dimensional space."
   ]
  },
  {
   "cell_type": "code",
   "execution_count": 60,
   "id": "f9c0ed4f",
   "metadata": {},
   "outputs": [
    {
     "data": {
      "image/png": "[encoded data removed]",
      "text/plain": [
       "<Figure size 432x288 with 1 Axes>"
      ]
     },
     "metadata": {},
     "output_type": "display_data"
    },
    {
     "data": {
      "text/plain": [
       "array([-1.64241164, 10.91476091])"
      ]
     },
     "execution_count": 60,
     "metadata": {},
     "output_type": "execute_result"
    }
   ],
   "source": [
    "# Points lying on the straight line\n",
    "a = np.array([-10, 2])\n",
    "b = np.array([5, 18])\n",
    "\n",
    "line_a_b = axis(a, b)\n",
    "mid_a_b = line_a_b.mid\n",
    "\n",
    "c = np.array([-6, 15])\n",
    "proj_c = line_a_b.project(c)\n",
    "\n",
    "points = [a, b, mid_a_b, c, proj_c]\n",
    "\n",
    "points_x = [x[0] for x in points]\n",
    "points_y = [x[1] for x in points]\n",
    "\n",
    "\n",
    "plt.plot([a[0], b[0]], [a[1], b[1]])\n",
    "plt.plot(points_x, points_y, '.')\n",
    "# Line\n",
    "plt.plot([c[0], proj_c[0]], [c[1], proj_c[1]], '-')\n",
    "plt.grid()\n",
    "plt.axhline(linewidth=1, color='black')\n",
    "plt.axvline(linewidth=1, color='black')\n",
    "plt.show()\n",
    "\n",
    "proj_c"
   ]
  },
  {
   "cell_type": "code",
   "execution_count": 26,
   "id": "28267bf3",
   "metadata": {},
   "outputs": [],
   "source": [
    "ice_fire_axis = axis(ice.vector, fire.vector)"
   ]
  },
  {
   "cell_type": "code",
   "execution_count": 29,
   "id": "7841d529",
   "metadata": {},
   "outputs": [
    {
     "data": {
      "text/plain": [
       "-4.104704"
      ]
     },
     "execution_count": 29,
     "metadata": {},
     "output_type": "execute_result"
    }
   ],
   "source": [
    "# Ice\n",
    "ice_fire_axis.pole_x\n",
    "\n",
    "# Fire\n",
    "ice_fire_axis.pole_y"
   ]
  },
  {
   "cell_type": "code",
   "execution_count": 30,
   "id": "da2c8ede",
   "metadata": {},
   "outputs": [
    {
     "data": {
      "text/plain": [
       "1.5802484"
      ]
     },
     "execution_count": 30,
     "metadata": {},
     "output_type": "execute_result"
    }
   ],
   "source": [
    "ice_fire_axis(nlp('icecream').vector)"
   ]
  },
  {
   "cell_type": "code",
   "execution_count": 31,
   "id": "b11cf5ce",
   "metadata": {},
   "outputs": [
    {
     "data": {
      "text/plain": [
       "1.3376285"
      ]
     },
     "execution_count": 31,
     "metadata": {},
     "output_type": "execute_result"
    }
   ],
   "source": [
    "ice_fire_axis(nlp('polar').vector)"
   ]
  },
  {
   "cell_type": "code",
   "execution_count": 32,
   "id": "793fc13a",
   "metadata": {},
   "outputs": [
    {
     "data": {
      "text/plain": [
       "array([4., 2.])"
      ]
     },
     "execution_count": 32,
     "metadata": {},
     "output_type": "execute_result"
    }
   ],
   "source": [
    "axis(np.array([1, 2]), np.array([10, 2])).project(np.array([4, 5]))"
   ]
  },
  {
   "cell_type": "code",
   "execution_count": 34,
   "id": "867e650d",
   "metadata": {},
   "outputs": [
    {
     "data": {
      "image/png": "[encoded data removed]",
      "text/plain": [
       "<Figure size 432x288 with 1 Axes>"
      ]
     },
     "metadata": {},
     "output_type": "display_data"
    },
    {
     "data": {
      "text/plain": [
       "array([3.5, 1.5])"
      ]
     },
     "execution_count": 34,
     "metadata": {},
     "output_type": "execute_result"
    }
   ],
   "source": [
    "# a = np.array([1, 2])\n",
    "# b = np.array([10, 2])\n",
    "# c = np.array([4, 5])\n",
    "\n",
    "a = np.array([2, 0])\n",
    "b = np.array([5, 3])\n",
    "c = np.array([2, 3])\n",
    "\n",
    "line_a_b = axis(a, b)\n",
    "mid_a_b = line_a_b.mid\n",
    "\n",
    "\n",
    "proj_c = line_a_b.project(c)\n",
    "\n",
    "points = [a, b, mid_a_b, c, proj_c]\n",
    "\n",
    "points_x = [x[0] for x in points]\n",
    "points_y = [x[1] for x in points]\n",
    "\n",
    "\n",
    "plt.plot([a[0], b[0]], [a[1], b[1]])\n",
    "plt.plot(points_x, points_y, '.')\n",
    "# Line\n",
    "plt.plot([c[0], proj_c[0]], [c[1], proj_c[1]], '-')\n",
    "plt.grid()\n",
    "plt.axhline(linewidth=1, color='black')\n",
    "plt.axvline(linewidth=1, color='black')\n",
    "plt.show()\n",
    "\n",
    "proj_c"
   ]
  },
  {
   "cell_type": "code",
   "execution_count": 35,
   "id": "3f7fd37b",
   "metadata": {},
   "outputs": [
    {
     "data": {
      "text/plain": [
       "array([-0.70710678, -0.70710678])"
      ]
     },
     "execution_count": 35,
     "metadata": {},
     "output_type": "execute_result"
    }
   ],
   "source": [
    "line_a_b.direction"
   ]
  },
  {
   "cell_type": "code",
   "execution_count": 36,
   "id": "548ddf18",
   "metadata": {},
   "outputs": [
    {
     "data": {
      "text/plain": [
       "array([-1.5, -1.5])"
      ]
     },
     "execution_count": 36,
     "metadata": {},
     "output_type": "execute_result"
    }
   ],
   "source": [
    "line_a_b.x - line_a_b.mid"
   ]
  },
  {
   "cell_type": "code",
   "execution_count": 37,
   "id": "19110403",
   "metadata": {},
   "outputs": [
    {
     "data": {
      "text/plain": [
       "array([2, 0])"
      ]
     },
     "execution_count": 37,
     "metadata": {},
     "output_type": "execute_result"
    }
   ],
   "source": [
    "line_a_b.x "
   ]
  },
  {
   "cell_type": "code",
   "execution_count": null,
   "id": "586b1a9a",
   "metadata": {},
   "outputs": [],
   "source": []
  }
 ],
 "metadata": {
  "kernelspec": {
   "display_name": "Python 3 (Spyder)",
   "language": "python3",
   "name": "python3"
  },
  "language_info": {
   "codemirror_mode": {
    "name": "ipython",
    "version": 3
   },
   "file_extension": ".py",
   "mimetype": "text/x-python",
   "name": "python",
   "nbconvert_exporter": "python",
   "pygments_lexer": "ipython3",
   "version": "3.8.10"
  }
 },
 "nbformat": 4,
 "nbformat_minor": 5
}
